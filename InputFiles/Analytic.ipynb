{
 "metadata": {
  "name": ""
 },
 "nbformat": 3,
 "nbformat_minor": 0,
 "worksheets": [
  {
   "cells": [
    {
     "cell_type": "code",
     "collapsed": false,
     "input": [
      "from libUnderworld import *"
     ],
     "language": "python",
     "metadata": {},
     "outputs": []
    },
    {
     "cell_type": "code",
     "collapsed": false,
     "input": [
      "from libUnderworld import c_arrays"
     ],
     "language": "python",
     "metadata": {},
     "outputs": []
    },
    {
     "cell_type": "code",
     "collapsed": false,
     "input": [
      "location = c_arrays.DoubleArray(2)\n",
      "velocity = c_arrays.DoubleArray(2)\n",
      "pressure = c_arrays.DoubleArray(1)\n",
      "stress = c_arrays.DoubleArray(3)\n",
      "strain_rate = c_arrays.DoubleArray(3)"
     ],
     "language": "python",
     "metadata": {},
     "outputs": []
    },
    {
     "cell_type": "code",
     "collapsed": false,
     "input": [
      "location[0]=0.7\n",
      "location[1]=0.7"
     ],
     "language": "python",
     "metadata": {},
     "outputs": []
    },
    {
     "cell_type": "code",
     "collapsed": false,
     "input": [
      "analytic.solcx(location.cast(), 10000.0,1.0, 0.5, 2, velocity.cast(), pressure.cast(), None, None) # <- works fine with None's\n",
      "#solcx(location, eta_A, eta_B, x_c, n, velocity, pressure, stress, strain_rate)\n",
      "analytic.solcx(location.cast(), 1000000.0,1.0, 0.55, 2, velocity.cast(), pressure.cast(), stress.cast(), strain_rate.cast())"
     ],
     "language": "python",
     "metadata": {},
     "outputs": []
    },
    {
     "cell_type": "code",
     "collapsed": false,
     "input": [
      "print velocity[0], velocity[1], pressure[0], stress[0], stress[1], stress[2], strain_rate[0], strain_rate[1], strain_rate[2]"
     ],
     "language": "python",
     "metadata": {},
     "outputs": []
    },
    {
     "cell_type": "code",
     "collapsed": false,
     "input": [
      "#solkx(location, sigma, m, n, B, velocity, pressure, stress, strain_rate, None)\n",
      "analytic.solkx(location.cast(), 1.0, 2, 3, 1.686, velocity.cast(), pressure.cast(), stress.cast(), strain_rate.cast(), None)"
     ],
     "language": "python",
     "metadata": {},
     "outputs": []
    },
    {
     "cell_type": "code",
     "collapsed": false,
     "input": [
      "print velocity[0], velocity[1], pressure[0], stress[0], stress[1], stress[2], strain_rate[0], strain_rate[1], strain_rate[2]"
     ],
     "language": "python",
     "metadata": {},
     "outputs": []
    },
    {
     "cell_type": "code",
     "collapsed": false,
     "input": [
      "#solkz(location, sigma, m, n, B, velocity, pressure, stress, strain_rate)\n",
      "analytic.solkz(location.cast(), 1.0, 2, 3, 1.686, velocity.cast(), pressure.cast(), stress.cast(), strain_rate.cast())"
     ],
     "language": "python",
     "metadata": {},
     "outputs": []
    },
    {
     "cell_type": "code",
     "collapsed": false,
     "input": [
      "print velocity[0], velocity[1], pressure[0], stress[0], stress[1], stress[2], strain_rate[0], strain_rate[1], strain_rate[2]"
     ],
     "language": "python",
     "metadata": {},
     "outputs": []
    },
    {
     "cell_type": "code",
     "collapsed": false,
     "input": [],
     "language": "python",
     "metadata": {},
     "outputs": []
    }
   ],
   "metadata": {}
  }
 ]
}