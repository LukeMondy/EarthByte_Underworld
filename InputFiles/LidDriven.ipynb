{
 "metadata": {
  "name": ""
 },
 "nbformat": 3,
 "nbformat_minor": 0,
 "worksheets": [
  {
   "cells": [
    {
     "cell_type": "code",
     "collapsed": true,
     "input": [
      "## Lid Driven\n",
      "\n",
      "import underworld\n",
      "import underworld as uw\n",
      "\n",
      "import underworld.meshing  as meshing\n",
      "import underworld.geometry as geometry\n",
      "import underworld.fields   as fields\n",
      "import underworld.swarms   as swarms\n",
      "import underworld.material as material\n",
      "import underworld.visualisation as visual\n",
      "\n",
      "import underworld.shapes as shape\n",
      "import underworld.rheology as rheo\n",
      "import underworld.boundary as bc\n",
      "import underworld.equations as eq\n",
      "import underworld.physics as phys\n",
      "\n",
      "uw.Init()\n",
      "\n",
      "gdict=uw.dictionary.GetDictionary()\n",
      "\n",
      "# uw.dictionary.PrintPretty(gdict)"
     ],
     "language": "python",
     "metadata": {},
     "outputs": [],
     "prompt_number": null
    },
    {
     "cell_type": "code",
     "collapsed": false,
     "input": [
      "minX=-2.0\n",
      "maxX=2.0\n",
      "minY=0.0\n",
      "maxY=2.0\n",
      "dim=2\n",
      "resX=64\n",
      "resY=32\n",
      "particlesPerCell = 35\n",
      "steps=3\n",
      "\n",
      "uw.dictionary.initDefaultParameters()\n",
      "uw.dictionary.setParameters(outputPath=\"liddrivenSinePIC\"+str(resX), \n",
      "                 maxTimeSteps     = steps,\n",
      "                 gravity = 0.0\n",
      "                 )\n"
     ],
     "language": "python",
     "metadata": {},
     "outputs": [],
     "prompt_number": null
    },
    {
     "cell_type": "code",
     "collapsed": false,
     "input": [
      "\n",
      "#uw.dictionary.importToolBox('gLucifer')\n"
     ],
     "language": "python",
     "metadata": {},
     "outputs": [],
     "prompt_number": null
    },
    {
     "cell_type": "code",
     "collapsed": false,
     "input": [
      "# Set up a standard Q1P0 Mesh\n",
      "geoNames=geometry.setup.meshQ1P0CartesianCreate(dim=dim, pic=True, \n",
      "                                                minX=minX, maxX=maxX, minY=minY, maxY=maxY,\n",
      "                                                resX=resX, resY=resY,\n",
      "                                                particlesPerCell=particlesPerCell)\n"
     ],
     "language": "python",
     "metadata": {},
     "outputs": [],
     "prompt_number": null
    },
    {
     "cell_type": "code",
     "collapsed": false,
     "input": [
      "# Need to set up Shapes and Rheology\n",
      "# Set up default background shape\n",
      "shape.setup.everywhereCreate(componentName=\"backgroundShape\")\n",
      "\n",
      "# Sets up \"backgroundViscosity\" by default\n",
      "rheo.setup.isoviscousCreate( componentName=\"backgroundViscosity\", eta0=1.0)  # or could set eta0 in the above Parameters list\n",
      "\n",
      "# connect shapes and rheologies\n",
      "material.setup.materialCreate( componentName = \"background\",\n",
      "                               rheologyName  = \"backgroundViscosity\",\n",
      "                               shapeName     = \"backgroundShape\",\n",
      "                               density       = 1.0\n",
      "                               )\n"
     ],
     "language": "python",
     "metadata": {},
     "outputs": [],
     "prompt_number": null
    },
    {
     "cell_type": "code",
     "collapsed": false,
     "input": [
      "# Need a system of Equations and Solver                                                                                         \n",
      "#eq.stokesSystemCreate(solver=\"stokesblockkspinterface\", pic=True)                                                         \n",
      "# The uzawa by default at the moment                                                                                            \n",
      "eq.setup.stokesSystemCreate(buoyancy=True, pic=True)\n",
      "#help(eq.setup.stokesSystemCreate)\n",
      "\n"
     ],
     "language": "python",
     "metadata": {},
     "outputs": [],
     "prompt_number": null
    },
    {
     "cell_type": "code",
     "collapsed": false,
     "input": [
      "\n",
      "bc.setup.wallSetFuncCreate(wall=\"top\", func=\"Velocity_SinusoidalLid\")\n",
      "\n",
      "# No slip on bottom\n",
      "bc.setup.wallFreeSlipCreate(wall=\"bottom\")\n",
      "bc.setup.wallFreeSlipCreate(wall=\"left\")\n",
      "bc.setup.wallFreeSlipCreate(wall=\"right\")\n"
     ],
     "language": "python",
     "metadata": {},
     "outputs": [],
     "prompt_number": null
    },
    {
     "cell_type": "code",
     "collapsed": false,
     "input": [
      "uw.dictionary.importToolBox('gLucifer')\n",
      "            \n",
      "# Create a field to visualise.\n",
      "fields.setup.operatorFeVariableCreate(feVariableName=\"VelocityField\", operator=\"Magnitude\")\n",
      "\n",
      "#visual.setup.cameraCreate(centreFieldVariable=\"VelocityField\", name=\"camera\")\n",
      "#create some arrows for visualisation\n",
      "#visual.setup.fieldArrowsCreate(name=\"velocityArrows\", fieldVariable=\"VelocityField\")\n",
      "#vis.viewPortCreate(fieldVariable=\"VelocityField\", camera=\"camera\")\n",
      "#visual.setup.viewPortCreate(fieldVariable=\"PressureField\", camera=\"camera\")\n",
      "#visual.setup.viewPortCreate(fieldVariable=\"magnitudeVelocityField\", camera=\"camera\", arrows=\"velocityArrows\")\n",
      "\n",
      "#visual.setup.databaseCreate()\n",
      "\n",
      "\n",
      "#visual.setup.windowCreate(viewPortList=[\"PressureFieldVP magnitudeVelocityFieldVP\"])\n",
      "\n"
     ],
     "language": "python",
     "metadata": {},
     "outputs": [],
     "prompt_number": null
    },
    {
     "cell_type": "code",
     "collapsed": false,
     "input": [
      "# Let particles leave box just in case\n",
      "uw.dictionary.UpdateDictWithComponent( gdict, name=\"escapedRoutine\", Type=\"EscapedRoutine\")\n",
      "\n",
      "uw.Construct()\n",
      "uw.Step(steps=steps)\n",
      "#uw.Finalise()\n",
      "\n",
      "# Woo!!\n"
     ],
     "language": "python",
     "metadata": {},
     "outputs": [],
     "prompt_number": null
    },
    {
     "cell_type": "code",
     "collapsed": false,
     "input": [
      "ls liddrivenSinePIC64/"
     ],
     "language": "python",
     "metadata": {},
     "outputs": [],
     "prompt_number": null
    },
    {
     "cell_type": "code",
     "collapsed": false,
     "input": [
      "import glucifer.pylab as plt\n",
      "fig = plt.figure(edgecolour=\"black\")\n",
      "fig.Surface(field=\"magnitudeVelocityField\", colours=\"red yellow green\")\n",
      "fig2 = plt.figure(edgecolour=\"black\")\n",
      "fig2.VectorArrows(field=\"VelocityField\", lengthScale=0.2, arrowHeadSize=0.2)\n",
      "fig3 = plt.figure(edgecolour=\"black\")\n",
      "fig3.Surface(field=\"magnitudeVelocityField\", colours=\"red yellow green\")\n",
      "fig3.VectorArrows(field=\"VelocityField\", lengthScale=0.3, arrowHeadSize=0.2, opacity=0.6)\n",
      "\n",
      "\n",
      "fig3.show()\n"
     ],
     "language": "python",
     "metadata": {},
     "outputs": [],
     "prompt_number": null
    },
    {
     "cell_type": "code",
     "collapsed": false,
     "input": [
      "fig.show()"
     ],
     "language": "python",
     "metadata": {},
     "outputs": [],
     "prompt_number": null
    },
    {
     "cell_type": "code",
     "collapsed": false,
     "input": [
      "fig2.show()"
     ],
     "language": "python",
     "metadata": {},
     "outputs": [],
     "prompt_number": null
    },
    {
     "cell_type": "code",
     "collapsed": false,
     "input": [],
     "language": "python",
     "metadata": {},
     "outputs": []
    }
   ],
   "metadata": {}
  }
 ]
}