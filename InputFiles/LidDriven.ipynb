{
 "metadata": {
  "name": "",
  "signature": "sha256:ba79e16f5294ac44dce9b6ba804698d9af829fbbaee0587195bd9718fa19a85d"
 },
 "nbformat": 3,
 "nbformat_minor": 0,
 "worksheets": [
  {
   "cells": [
    {
     "cell_type": "code",
     "collapsed": true,
     "input": [
      "## Lid Driven\n",
      "\n",
      "import underworld\n",
      "import underworld as uw\n",
      "\n",
      "import underworld.meshing  as meshing\n",
      "import underworld.geometry as geometry\n",
      "import underworld.fields   as fields\n",
      "import underworld.swarms   as swarms\n",
      "import underworld.material as material\n",
      "import underworld.visualisation as visual\n",
      "\n",
      "import underworld.shapes as shape\n",
      "import underworld.rheology as rheo\n",
      "import underworld.boundary as bc\n",
      "import underworld.equations as eq\n",
      "import underworld.physics as phys\n",
      "\n",
      "uw.Init()\n",
      "\n",
      "gdict=uw.dictionary.GetDictionary()\n",
      "\n",
      "# uw.dictionary.PrintPretty(gdict)"
     ],
     "language": "python",
     "metadata": {},
     "outputs": [],
     "prompt_number": 1
    },
    {
     "cell_type": "code",
     "collapsed": false,
     "input": [
      "minX=-2.0\n",
      "maxX=2.0\n",
      "minY=0.0\n",
      "maxY=2.0\n",
      "dim=2\n",
      "resX=64\n",
      "resY=32\n",
      "particlesPerCell = 35\n",
      "steps=3\n",
      "\n",
      "uw.dictionary.initDefaultParameters()\n",
      "uw.dictionary.setParameters(outputPath=\"liddrivenSinePIC\"+str(resX), \n",
      "                 maxTimeSteps     = steps\n",
      "                 )\n"
     ],
     "language": "python",
     "metadata": {},
     "outputs": [
      {
       "ename": "NameError",
       "evalue": "name 'uw' is not defined",
       "output_type": "pyerr",
       "traceback": [
        "\u001b[0;31m---------------------------------------------------------------------------\u001b[0m\n\u001b[0;31mNameError\u001b[0m                                 Traceback (most recent call last)",
        "\u001b[0;32m<ipython-input-1-cb701e4ba8b0>\u001b[0m in \u001b[0;36m<module>\u001b[0;34m()\u001b[0m\n\u001b[1;32m      9\u001b[0m \u001b[0msteps\u001b[0m\u001b[0;34m=\u001b[0m\u001b[0;36m3\u001b[0m\u001b[0;34m\u001b[0m\u001b[0m\n\u001b[1;32m     10\u001b[0m \u001b[0;34m\u001b[0m\u001b[0m\n\u001b[0;32m---> 11\u001b[0;31m \u001b[0muw\u001b[0m\u001b[0;34m.\u001b[0m\u001b[0mdictionary\u001b[0m\u001b[0;34m.\u001b[0m\u001b[0minitDefaultParameters\u001b[0m\u001b[0;34m(\u001b[0m\u001b[0;34m)\u001b[0m\u001b[0;34m\u001b[0m\u001b[0m\n\u001b[0m\u001b[1;32m     12\u001b[0m uw.dictionary.setParameters(outputPath=\"liddrivenSinePIC\"+str(resX), \n\u001b[1;32m     13\u001b[0m                  \u001b[0mmaxTimeSteps\u001b[0m     \u001b[0;34m=\u001b[0m \u001b[0msteps\u001b[0m\u001b[0;34m\u001b[0m\u001b[0m\n",
        "\u001b[0;31mNameError\u001b[0m: name 'uw' is not defined"
       ]
      }
     ],
     "prompt_number": 1
    },
    {
     "cell_type": "code",
     "collapsed": false,
     "input": [
      "\n",
      "uw.dictionary.importToolBox('gLucifer')\n"
     ],
     "language": "python",
     "metadata": {},
     "outputs": [],
     "prompt_number": 3
    },
    {
     "cell_type": "code",
     "collapsed": false,
     "input": [
      "# Set up a standard Q1P0 Mesh\n",
      "geoNames=geometry.setup.meshQ1P0CartesianCreate(dim=dim, pic=True, \n",
      "                                                minX=minX, maxX=maxX, minY=minY, maxY=maxY,\n",
      "                                                resX=resX, resY=resY,\n",
      "                                                particlesPerCell=particlesPerCell)\n"
     ],
     "language": "python",
     "metadata": {},
     "outputs": [],
     "prompt_number": 4
    },
    {
     "cell_type": "code",
     "collapsed": false,
     "input": [
      "# Need to set up Shapes and Rheology\n",
      "# Set up default background shape\n",
      "shape.setup.everywhereCreate(componentName=\"backgroundShape\")\n",
      "\n",
      "# Sets up \"backgroundViscosity\" by default\n",
      "rheo.setup.isoviscousCreate( componentName=\"backgroundViscosity\", eta0=1.0)  # or could set eta0 in the above Parameters list\n",
      "\n",
      "# connect shapes and rheologies\n",
      "material.setup.materialCreate( componentName = \"background\",\n",
      "                               rheologyName  = \"backgroundViscosity\",\n",
      "                               shapeName     = \"backgroundShape\",\n",
      "                               density       = 1.0\n",
      "                               )\n"
     ],
     "language": "python",
     "metadata": {},
     "outputs": [
      {
       "metadata": {},
       "output_type": "pyout",
       "prompt_number": 5,
       "text": [
        "{'Rheology': 'backgroundViscosity',\n",
        " 'Shape': 'backgroundShape',\n",
        " 'Type': 'RheologyMaterial',\n",
        " 'alpha': '0.0',\n",
        " 'density': '1.0',\n",
        " 'name': 'background',\n",
        " 'referenceTemperature': '0.0'}"
       ]
      }
     ],
     "prompt_number": 5
    },
    {
     "cell_type": "code",
     "collapsed": false,
     "input": [
      "# Need a system of Equations and Solver                                                                                         \n",
      "#eq.stokesSystemCreate(solver=\"stokesblockkspinterface\", pic=True)                                                         \n",
      "# The uzawa by default at the moment                                                                                            \n",
      "eq.setup.stokesSystemCreate(pic=True)\n",
      "#help(eq.setup.stokesSystemCreate)\n",
      "\n"
     ],
     "language": "python",
     "metadata": {},
     "outputs": [],
     "prompt_number": 6
    },
    {
     "cell_type": "code",
     "collapsed": false,
     "input": [
      "\n",
      "bc.setup.wallSetFuncCreate(wall=\"top\", func=\"Velocity_SinusoidalLid\")\n",
      "\n",
      "# No slip on bottom\n",
      "bc.setup.wallNoSlipCreate(wall=\"bottom\")\n"
     ],
     "language": "python",
     "metadata": {},
     "outputs": [
      {
       "metadata": {},
       "output_type": "pyout",
       "prompt_number": 8,
       "text": [
        "{'Type': 'CompositeVC',\n",
        " 'name': 'linearMeshBCs',\n",
        " 'vcList': [{'type': 'WallVC',\n",
        "   'variables': [{'name': 'vx', 'type': 'double', 'value': 0.0}],\n",
        "   'wall': 'left'},\n",
        "  {'type': 'WallVC',\n",
        "   'variables': [{'name': 'vx', 'type': 'double', 'value': 0.0}],\n",
        "   'wall': 'right'},\n",
        "  {'type': 'WallVC',\n",
        "   'variables': [{'name': 'vx',\n",
        "     'type': 'func',\n",
        "     'value': 'Velocity_SinusoidalLid'},\n",
        "    {'name': 'vy', 'type': 'double', 'value': 0.0}],\n",
        "   'wall': 'top'},\n",
        "  {'type': 'WallVC',\n",
        "   'variables': [{'name': 'vx', 'type': 'double', 'value': 0.0},\n",
        "    {'name': 'vy', 'type': 'double', 'value': 0.0}],\n",
        "   'wall': 'bottom'},\n",
        "  {'type': 'WallVC',\n",
        "   'variables': [{'name': 'vx',\n",
        "     'type': 'func',\n",
        "     'value': 'Velocity_SinusoidalLid'},\n",
        "    {'name': 'vy', 'type': 'double', 'value': 0.0}],\n",
        "   'wall': 'top'},\n",
        "  {'type': 'WallVC',\n",
        "   'variables': [{'name': 'vx', 'type': 'double', 'value': 0.0},\n",
        "    {'name': 'vy', 'type': 'double', 'value': 0.0}],\n",
        "   'wall': 'bottom'}]}"
       ]
      }
     ],
     "prompt_number": 8
    },
    {
     "cell_type": "code",
     "collapsed": false,
     "input": [
      "uw.dictionary.importToolBox('gLucifer')\n",
      "            \n",
      "# Create a field to visualise.\n",
      "fields.setup.operatorFeVariableCreate(feVariableName=\"VelocityField\", operator=\"Magnitude\")\n",
      "\n",
      "visual.setup.cameraCreate(centreFieldVariable=\"VelocityField\", name=\"camera\")\n",
      "#create some arrows for visualisation\n",
      "visual.setup.fieldArrowsCreate(name=\"velocityArrows\", fieldVariable=\"VelocityField\")\n",
      "#vis.viewPortCreate(fieldVariable=\"VelocityField\", camera=\"camera\")\n",
      "visual.setup.viewPortCreate(fieldVariable=\"PressureField\", camera=\"camera\")\n",
      "visual.setup.viewPortCreate(fieldVariable=\"magnitudeVelocityField\", camera=\"camera\", arrows=\"velocityArrows\")\n",
      "\n",
      "visual.setup.databaseCreate()\n",
      "\n",
      "\n",
      "visual.setup.windowCreate(viewPortList=[\"PressureFieldVP magnitudeVelocityFieldVP\"])\n"
     ],
     "language": "python",
     "metadata": {},
     "outputs": [
      {
       "metadata": {},
       "output_type": "pyout",
       "prompt_number": 9,
       "text": [
        "{'Database': 'database',\n",
        " 'Type': 'lucWindow',\n",
        " 'Viewport': ['PressureFieldVP magnitudeVelocityFieldVP'],\n",
        " 'name': 'window'}"
       ]
      }
     ],
     "prompt_number": 9
    },
    {
     "cell_type": "code",
     "collapsed": false,
     "input": [
      "# Let particles leave box just in case\n",
      "uw.dictionary.UpdateDictWithComponent( gdict, name=\"escapedRoutine\", Type=\"EscapedRoutine\")\n",
      "\n",
      "uw.Construct()\n",
      "uw.Step(steps=steps)\n",
      "uw.Finalise()\n",
      "\n",
      "# Woo!!\n"
     ],
     "language": "python",
     "metadata": {},
     "outputs": [],
     "prompt_number": 10
    },
    {
     "cell_type": "code",
     "collapsed": false,
     "input": [],
     "language": "python",
     "metadata": {},
     "outputs": []
    },
    {
     "cell_type": "code",
     "collapsed": false,
     "input": [],
     "language": "python",
     "metadata": {},
     "outputs": []
    }
   ],
   "metadata": {}
  }
 ]
}