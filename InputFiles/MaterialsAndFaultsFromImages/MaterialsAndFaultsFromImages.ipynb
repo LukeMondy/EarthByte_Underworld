{
 "metadata": {
  "name": ""
 },
 "nbformat": 3,
 "nbformat_minor": 0,
 "worksheets": [
  {
   "cells": [
    {
     "cell_type": "code",
     "collapsed": false,
     "input": [
      "import underworld\n",
      "underworld.InitWithArgs(\"BasicRT.xml\")"
     ],
     "language": "python",
     "metadata": {},
     "outputs": [],
     "prompt_number": 1
    },
    {
     "cell_type": "code",
     "collapsed": false,
     "input": [
      "uwdict = underworld.GetCurrentDictionary()\n",
      "# lets setup domain\n",
      "uwdict[\"minX\"] = 0.\n",
      "uwdict[\"maxX\"] = 4.\n",
      "uwdict[\"minY\"] = 0.\n",
      "uwdict[\"maxY\"] = 1.\n",
      "# also model run parameters\n",
      "uwdict[\"maxTimeSteps\"] = -1\n",
      "uwdict[\"checkpointEvery\"] = 1"
     ],
     "language": "python",
     "metadata": {},
     "outputs": [],
     "prompt_number": 2
    },
    {
     "cell_type": "code",
     "collapsed": false,
     "input": [
      "# lets create materials.  we'll just use default values for now, and set everything later\n",
      "uwdict[\"components\"][\"layer1\"]={ \"Type\":\"RheologyMaterial\", \"Shape\":\"backgroundShape\", \"density\":1., \"Rheology\":\"backgroundViscosity\"}\n",
      "uwdict[\"components\"][\"layer2\"]={ \"Type\":\"RheologyMaterial\", \"Shape\":\"backgroundShape\", \"density\":1., \"Rheology\":\"backgroundViscosity\"}\n",
      "uwdict[\"components\"][\"layer3\"]={ \"Type\":\"RheologyMaterial\", \"Shape\":\"backgroundShape\", \"density\":1., \"Rheology\":\"backgroundViscosity\"}\n",
      "uwdict[\"components\"][\"layer4\"]={ \"Type\":\"RheologyMaterial\", \"Shape\":\"backgroundShape\", \"density\":1., \"Rheology\":\"backgroundViscosity\"}\n",
      "uwdict[\"components\"][\"layer5\"]={ \"Type\":\"RheologyMaterial\", \"Shape\":\"backgroundShape\", \"density\":1., \"Rheology\":\"backgroundViscosity\"}\n",
      "uwdict[\"components\"][\"air\"]   ={ \"Type\":\"RheologyMaterial\", \"Shape\":\"backgroundShape\", \"density\":1., \"Rheology\":\"backgroundViscosity\"}"
     ],
     "language": "python",
     "metadata": {},
     "outputs": [],
     "prompt_number": 3
    },
    {
     "cell_type": "code",
     "collapsed": false,
     "input": [
      "# ok, lets create some RBF guys.  Define a function\n",
      "def NewRBFSwarmDictionary( rbfname, supportRadius ):\n",
      "    # manager dict\n",
      "    managerDict   = { \"Type\":\"RBFManager\", \"ParticleSupportRadius\":supportRadius, \"RBFdim\":2, \"RBFSwarm\":rbfname+\"Swarm\" }\n",
      "    swarmDict     = { \"Type\":\"Swarm\"     , \"CellLayout\":rbfname+\"CLLLayout\" }\n",
      "    layoutDict    = { \"Type\":\"CLLCellLayout\",  \"GeometryMesh\":\"linearMesh\", \"CellSize\":supportRadius, \"MeshDim\":2 }\n",
      "    variableDict  = { \"Type\":\"Variable\",  \"Rank\":\"Scalar\", \"DataType\":\"Double\" }\n",
      "    swarmVarDict  = { \"Type\":\"SwarmVariable\",  \"Swarm\":rbfname+\"Swarm\", \"Variable\":rbfname+\"Variable\" }\n",
      "    return { rbfname+\"Manager\"  : managerDict, \n",
      "             rbfname+\"Swarm\"    : swarmDict, \n",
      "             rbfname+\"CLLLayout\": layoutDict,\n",
      "             rbfname+\"Variable\" : variableDict,\n",
      "             rbfname+\"SwarmVar\" : swarmVarDict }\n",
      "\n",
      "# generate a support radius.  lets try for 10 particles per element width\n",
      "supportRadius = 2.*(float(uwdict[\"maxX\"]) - float(uwdict[\"minX\"]))/float(uwdict[\"elementResI\"]*10)\n",
      "uwdict[\"components\"].update( NewRBFSwarmDictionary( \"faults1\", supportRadius ) )\n",
      "uwdict[\"components\"].update( NewRBFSwarmDictionary( \"faults2\", supportRadius ) )\n",
      "uwdict[\"components\"].update( NewRBFSwarmDictionary( \"faults3\", supportRadius ) )"
     ],
     "language": "python",
     "metadata": {},
     "outputs": [],
     "prompt_number": 4
    },
    {
     "cell_type": "code",
     "collapsed": false,
     "input": [
      "underworld.SetDictionary(uwdict) "
     ],
     "language": "python",
     "metadata": {},
     "outputs": [],
     "prompt_number": 5
    },
    {
     "cell_type": "code",
     "collapsed": false,
     "input": [
      "underworld.Construct()"
     ],
     "language": "python",
     "metadata": {},
     "outputs": [],
     "prompt_number": 6
    },
    {
     "cell_type": "code",
     "collapsed": false,
     "input": [
      "underworld.BuildAndInitialise()"
     ],
     "language": "python",
     "metadata": {},
     "outputs": [],
     "prompt_number": 7
    },
    {
     "cell_type": "code",
     "collapsed": false,
     "input": [
      "# fire up the materials image... some massaging (via Gimp) was requried to get it to a usable state\n",
      "%matplotlib inline\n",
      "import matplotlib.pylab as pylab\n",
      "pylab.rcParams['figure.figsize'] = 16, 12\n",
      "import matplotlib.pyplot as plt\n",
      "from scipy import misc\n",
      "matImg = misc.imread('faults2int_mats.png')\n",
      "cmap = plt.get_cmap('terrain', 6)\n",
      "plt.imshow(matImg, cmap=cmap)\n",
      "plt.colorbar()"
     ],
     "language": "python",
     "metadata": {},
     "outputs": [
      {
       "metadata": {},
       "output_type": "pyout",
       "prompt_number": 8,
       "text": [
        "<matplotlib.colorbar.Colorbar instance at 0x1097055f0>"
       ]
      },
      {
       "metadata": {},
       "output_type": "display_data",
       "png": "[encoded data removed]",
       "text": [
        "<matplotlib.figure.Figure at 0x1096d0290>"
       ]
      }
     ],
     "prompt_number": 8
    },
    {
     "cell_type": "code",
     "collapsed": false,
     "input": [
      "# ok, lets build a map from values found within the image, to the material index values stgermain has set\n",
      "context = underworld.GetLiveComponent( \"context\" )\n",
      "layer1 = underworld.PICellerator.Materials_Register_GetByName( context.materials_Register, \"layer1\" )\n",
      "layer2 = underworld.PICellerator.Materials_Register_GetByName( context.materials_Register, \"layer2\" )\n",
      "layer3 = underworld.PICellerator.Materials_Register_GetByName( context.materials_Register, \"layer3\" )\n",
      "layer4 = underworld.PICellerator.Materials_Register_GetByName( context.materials_Register, \"layer4\" )\n",
      "layer5 = underworld.PICellerator.Materials_Register_GetByName( context.materials_Register, \"layer5\" )\n",
      "air = underworld.PICellerator.Materials_Register_GetByName( context.materials_Register, \"air\" )\n",
      "# by inspection of above image, create map\n",
      "mapDictionary = { 4: layer1.index, 2:layer2.index, 0:layer3.index, 3:layer4.index, 1:layer5.index, 5:air.index }"
     ],
     "language": "python",
     "metadata": {},
     "outputs": [],
     "prompt_number": 9
    },
    {
     "cell_type": "code",
     "collapsed": false,
     "input": [
      "# lets define a function to handle the image\n",
      "def ImageAsField( numpyImage, minTuple, maxTuple, queryLocationTuple ):\n",
      "    # lets make the image domain a touch bigger to make life easier\n",
      "    epsX = (maxTuple[0]- minTuple[0])/100000.\n",
      "    epsY = (maxTuple[1]- minTuple[1])/100000.\n",
      "    numPixX = float(numpyImage.shape[1])\n",
      "    numPixY = float(numpyImage.shape[0])\n",
      "    \n",
      "    qPixX = int(numPixX*(queryLocationTuple[0] - minTuple[0]+epsX)/(maxTuple[0]-minTuple[0]+2*epsX)) \n",
      "    qPixY = int(numPixY) - int(numPixY*(queryLocationTuple[1] - minTuple[1]+epsY)/(maxTuple[1]-minTuple[1]+2*epsY)) -1\n",
      "    \n",
      "    return numpyImage[qPixY][qPixX]"
     ],
     "language": "python",
     "metadata": {},
     "outputs": [],
     "prompt_number": 10
    },
    {
     "cell_type": "code",
     "collapsed": false,
     "input": [
      "swarm = underworld.GetLiveComponent(\"materialSwarm\")\n",
      "underworld.Swarm_PrintVariables(swarm)\n",
      "variables = underworld.Swarm_GetVariables(swarm)"
     ],
     "language": "python",
     "metadata": {},
     "outputs": [
      {
       "output_type": "stream",
       "stream": "stdout",
       "text": [
        "Name = materialSwarm-OwningCell     Type = Variable_DataType_Int\n",
        "Name = materialSwarm-PositionX      Type = Variable_DataType_Double\n",
        "Name = materialSwarm-PositionY      Type = Variable_DataType_Double\n",
        "Name = materialSwarm-Position       Type = Variable_DataType_Double\n",
        "Name = materialSwarm-MaterialIndex  Type = Variable_DataType_Int\n"
       ]
      }
     ],
     "prompt_number": 11
    },
    {
     "cell_type": "code",
     "collapsed": false,
     "input": [
      "matIndexVariable = variables[4][1]\n",
      "posVariable = variables[3][1]"
     ],
     "language": "python",
     "metadata": {},
     "outputs": [],
     "prompt_number": 12
    },
    {
     "cell_type": "code",
     "collapsed": false,
     "input": [
      "# ok, lets sweep image\n",
      "# setup img domain as follows\n",
      "imgMinDom = (0.,0.)\n",
      "imgMaxDom = (4.252,1.042)\n",
      "\n",
      "for ii in range(0,swarm.particleLocalCount):\n",
      "\t# grab the position\n",
      "    pos = underworld.SwarmVariable_GetValueAt( posVariable, ii )\n",
      "    imgVal = ImageAsField( matImg, imgMinDom, imgMaxDom, tuple(pos) )\n",
      "    underworld.SwarmVariable_SetValueAt( matIndexVariable, ii, [mapDictionary[imgVal]] ) "
     ],
     "language": "python",
     "metadata": {},
     "outputs": [],
     "prompt_number": 13
    },
    {
     "cell_type": "code",
     "collapsed": false,
     "input": [
      "faults1Img = misc.imread('faults2int_faults1.png')\n",
      "plt.imshow(faults1Img, )"
     ],
     "language": "python",
     "metadata": {},
     "outputs": [
      {
       "metadata": {},
       "output_type": "pyout",
       "prompt_number": 14,
       "text": [
        "<matplotlib.image.AxesImage at 0x10e7c4850>"
       ]
      },
      {
       "metadata": {},
       "output_type": "display_data",
       "png": "[encoded data removed]",
       "text": [
        "<matplotlib.figure.Figure at 0x10a3bf650>"
       ]
      }
     ],
     "prompt_number": 14
    },
    {
     "cell_type": "code",
     "collapsed": false,
     "input": [
      "faults2Img = misc.imread('faults2int_faults2.png')\n",
      "plt.imshow(faults2Img, )"
     ],
     "language": "python",
     "metadata": {},
     "outputs": [
      {
       "metadata": {},
       "output_type": "pyout",
       "prompt_number": 15,
       "text": [
        "<matplotlib.image.AxesImage at 0x111982d90>"
       ]
      },
      {
       "metadata": {},
       "output_type": "display_data",
       "png": "[encoded data removed]",
       "text": [
        "<matplotlib.figure.Figure at 0x1065c3690>"
       ]
      }
     ],
     "prompt_number": 15
    },
    {
     "cell_type": "code",
     "collapsed": false,
     "input": [
      "faults3Img = misc.imread('faults2int_faults3.png')\n",
      "plt.imshow(faults3Img, )"
     ],
     "language": "python",
     "metadata": {},
     "outputs": [
      {
       "metadata": {},
       "output_type": "pyout",
       "prompt_number": 16,
       "text": [
        "<matplotlib.image.AxesImage at 0x114169fd0>"
       ]
      },
      {
       "metadata": {},
       "output_type": "display_data",
       "png": "[encoded data removed]",
       "text": [
        "<matplotlib.figure.Figure at 0x10a3ea990>"
       ]
      }
     ],
     "prompt_number": 16
    },
    {
     "cell_type": "code",
     "collapsed": false,
     "input": [
      "# ok, lets add some particles along fault lines to RBF swarm\n",
      "numpartsX = uwdict[\"elementResI\"]*10\n",
      "numpartsY = int(float(uwdict[\"elementResJ\"]*10./4.))\n",
      "\n",
      "minX = float(uwdict[\"minX\"])\n",
      "maxX = float(uwdict[\"maxX\"])\n",
      "minY = float(uwdict[\"minY\"])\n",
      "maxY = float(uwdict[\"maxY\"])\n",
      "\n",
      "f1swarm = underworld.GetLiveComponent(\"faults1Swarm\")\n",
      "f2swarm = underworld.GetLiveComponent(\"faults2Swarm\")\n",
      "f3swarm = underworld.GetLiveComponent(\"faults3Swarm\")\n",
      "\n",
      "for ii in range(0,numpartsX):\n",
      "    for jj in range(0,numpartsY):\n",
      "        partX = minX + (float(ii)+0.5)*(maxX-minX)/float(numpartsX)\n",
      "        partY = minY + (float(jj)+0.5)*(maxY-minY)/float(numpartsY)\n",
      "        f1Val = ImageAsField( faults1Img, imgMinDom, imgMaxDom, (partX,partY) )\n",
      "        f2Val = ImageAsField( faults2Img, imgMinDom, imgMaxDom, (partX,partY) )\n",
      "        f3Val = ImageAsField( faults3Img, imgMinDom, imgMaxDom, (partX,partY) )\n",
      "        if f1Val != 0 : underworld.PICellerator.GeneralSwarm_AddParticle( f1swarm, 2, partX, partY, 0.)\n",
      "        if f2Val != 0 : underworld.PICellerator.GeneralSwarm_AddParticle( f2swarm, 2, partX, partY, 0.)\n",
      "        if f3Val != 0 : underworld.PICellerator.GeneralSwarm_AddParticle( f3swarm, 2, partX, partY, 0.)"
     ],
     "language": "python",
     "metadata": {},
     "outputs": [],
     "prompt_number": 17
    },
    {
     "cell_type": "code",
     "collapsed": false,
     "input": [
      "# need to call init func to calc rbf densities\n",
      "underworld.StGermain.Stg_Component_Initialise(underworld.GetLiveComponent(\"faults1Manager\"), context, True)\n",
      "underworld.StGermain.Stg_Component_Initialise(underworld.GetLiveComponent(\"faults2Manager\"), context, True)\n",
      "underworld.StGermain.Stg_Component_Initialise(underworld.GetLiveComponent(\"faults3Manager\"), context, True)"
     ],
     "language": "python",
     "metadata": {},
     "outputs": [],
     "prompt_number": 18
    },
    {
     "cell_type": "code",
     "collapsed": false,
     "input": [
      "underworld.Swarm_PrintVariables(f1swarm)\n",
      "variables = underworld.Swarm_GetVariables(f1swarm)\n",
      "variables[5][1].isCheckpointedAndReloaded = True"
     ],
     "language": "python",
     "metadata": {},
     "outputs": [
      {
       "output_type": "stream",
       "stream": "stdout",
       "text": [
        "Name = faults1Swarm-OwningCell  Type = Variable_DataType_Int\n",
        "Name = faults1SwarmVar          Type = Variable_DataType_Double\n",
        "Name = faults1Swarm-PositionX   Type = Variable_DataType_Double\n",
        "Name = faults1Swarm-PositionY   Type = Variable_DataType_Double\n",
        "Name = faults1Swarm-Position    Type = Variable_DataType_Double\n",
        "Name = faults1Swarm-RBFDensity  Type = Variable_DataType_Double\n"
       ]
      }
     ],
     "prompt_number": 19
    },
    {
     "cell_type": "code",
     "collapsed": false,
     "input": [
      "underworld.RunMainLoop()\n",
      "underworld.Finalise()"
     ],
     "language": "python",
     "metadata": {},
     "outputs": [],
     "prompt_number": 20
    }
   ],
   "metadata": {}
  }
 ]
}
