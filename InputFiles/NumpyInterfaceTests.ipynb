{
 "metadata": {
  "name": "",
  "signature": "sha256:072a6a9dad760c40184450d06e0ac98604216329720837b3c885d41abd269496"
 },
 "nbformat": 3,
 "nbformat_minor": 0,
 "worksheets": [
  {
   "cells": [
    {
     "cell_type": "code",
     "collapsed": false,
     "input": [
      "import underworld\n",
      "import numpy as np\n",
      "import math\n",
      "import underworld._stgermain as stgermain\n",
      "from underworld import libUnderworld"
     ],
     "language": "python",
     "metadata": {},
     "outputs": [],
     "prompt_number": 1
    },
    {
     "cell_type": "code",
     "collapsed": false,
     "input": [
      "# init using json\n",
      "underworld.Init(args=\"RayleighTaylorBenchmark.xml\")"
     ],
     "language": "python",
     "metadata": {},
     "outputs": [],
     "prompt_number": 2
    },
    {
     "cell_type": "code",
     "collapsed": false,
     "input": [
      "underworld.Construct()\n"
     ],
     "language": "python",
     "metadata": {},
     "outputs": [],
     "prompt_number": 3
    },
    {
     "cell_type": "code",
     "collapsed": false,
     "input": [
      "velthing = stgermain.GetLiveComponent(\"VelocityField\")"
     ],
     "language": "python",
     "metadata": {},
     "outputs": [],
     "prompt_number": 4
    },
    {
     "cell_type": "code",
     "collapsed": false,
     "input": [
      "mesh = stgermain.GetLiveComponent(\"linearMesh\")"
     ],
     "language": "python",
     "metadata": {},
     "outputs": [],
     "prompt_number": 5
    },
    {
     "cell_type": "markdown",
     "metadata": {},
     "source": [
      "let's test out the operator overloading"
     ]
    },
    {
     "cell_type": "code",
     "collapsed": false,
     "input": [
      "print velthing[2:100:110]"
     ],
     "language": "python",
     "metadata": {},
     "outputs": [
      {
       "output_type": "stream",
       "stream": "stdout",
       "text": [
        "[[ 0.  0.]]\n"
       ]
      }
     ],
     "prompt_number": 6
    },
    {
     "cell_type": "code",
     "collapsed": false,
     "input": [
      "mesh[0:4225:1000]"
     ],
     "language": "python",
     "metadata": {},
     "outputs": [
      {
       "metadata": {},
       "output_type": "pyout",
       "prompt_number": 7,
       "text": [
        "array([[ 0.        ,  0.        ],\n",
        "       [ 0.35710938,  0.234375  ],\n",
        "       [ 0.71421875,  0.46875   ],\n",
        "       [ 0.14284375,  0.71875   ],\n",
        "       [ 0.49995312,  0.953125  ]])"
       ]
      }
     ],
     "prompt_number": 7
    },
    {
     "cell_type": "markdown",
     "metadata": {},
     "source": [
      "we can also set values using the numpy interface"
     ]
    },
    {
     "cell_type": "code",
     "collapsed": false,
     "input": [
      "velthing[10][0] = 1"
     ],
     "language": "python",
     "metadata": {},
     "outputs": [],
     "prompt_number": 8
    },
    {
     "cell_type": "code",
     "collapsed": false,
     "input": [
      "velthing[10]"
     ],
     "language": "python",
     "metadata": {},
     "outputs": [
      {
       "metadata": {},
       "output_type": "pyout",
       "prompt_number": 9,
       "text": [
        "array([ 1.,  0.])"
       ]
      }
     ],
     "prompt_number": 9
    },
    {
     "cell_type": "code",
     "collapsed": false,
     "input": [
      "mesh[0][0] = 0.0001"
     ],
     "language": "python",
     "metadata": {},
     "outputs": [],
     "prompt_number": 10
    },
    {
     "cell_type": "code",
     "collapsed": false,
     "input": [
      "mesh[0:4225:1000]"
     ],
     "language": "python",
     "metadata": {},
     "outputs": [
      {
       "metadata": {},
       "output_type": "pyout",
       "prompt_number": 11,
       "text": [
        "array([[  1.00000000e-04,   0.00000000e+00],\n",
        "       [  3.57109375e-01,   2.34375000e-01],\n",
        "       [  7.14218750e-01,   4.68750000e-01],\n",
        "       [  1.42843750e-01,   7.18750000e-01],\n",
        "       [  4.99953125e-01,   9.53125000e-01]])"
       ]
      }
     ],
     "prompt_number": 11
    },
    {
     "cell_type": "markdown",
     "metadata": {},
     "source": [
      "great success..  now, lets do some further testing.  first, lets check the original implementation benchmark:"
     ]
    },
    {
     "cell_type": "code",
     "collapsed": false,
     "input": [
      "# the old interface version.  note that this function must write into stg memory\n",
      "def TrigICOrig(meshGuy, velGuy):\n",
      "    from libUnderworld import c_arrays\n",
      "    valuePtr = c_arrays.DoubleArray(2)\n",
      "\n",
      "    for ii in range(0,libUnderworld.StgDomain.Mesh_GetDomainSize(meshGuy,0)):\n",
      "    \tposition = c_arrays.DoubleArray_frompointer(libUnderworld.StgDomain.Mesh_GetVertex( meshGuy, ii ))\n",
      "        valuePtr[0] = math.sin(position[0])**2\n",
      "        valuePtr[1] = math.cos(position[1])**2\n",
      "        libUnderworld.StgFEM.FeVariable_SetValueAtNode( velGuy, ii, valuePtr.cast() )"
     ],
     "language": "python",
     "metadata": {},
     "outputs": [],
     "prompt_number": 12
    },
    {
     "cell_type": "code",
     "collapsed": false,
     "input": [
      "timeit TrigICOrig(mesh, velthing)"
     ],
     "language": "python",
     "metadata": {},
     "outputs": [
      {
       "output_type": "stream",
       "stream": "stdout",
       "text": [
        "10 loops, best of 3: 73.9 ms per loop\n"
       ]
      }
     ],
     "prompt_number": 13
    },
    {
     "cell_type": "markdown",
     "metadata": {},
     "source": [
      "so, 34ms.  let's try using the operator overload method"
     ]
    },
    {
     "cell_type": "code",
     "collapsed": false,
     "input": [
      "# the overloaded square bracket interface function\n",
      "def TrigICOverload(meshGuy, velGuy):\n",
      "    for ii in range(0, velGuy.getAsNumpyArray().shape[0]):\n",
      "        velGuy[ii][0] = math.sin(meshGuy[ii][0])**2\n",
      "        velGuy[ii][1] = math.cos(meshGuy[ii][1])**2"
     ],
     "language": "python",
     "metadata": {},
     "outputs": [],
     "prompt_number": 14
    },
    {
     "cell_type": "code",
     "collapsed": false,
     "input": [
      "# grab a copy to compare with later\n",
      "velArrayCopy = np.copy(velthing.getAsNumpyArray())"
     ],
     "language": "python",
     "metadata": {},
     "outputs": [],
     "prompt_number": 15
    },
    {
     "cell_type": "code",
     "collapsed": false,
     "input": [
      "timeit TrigICOverload(mesh, velthing)"
     ],
     "language": "python",
     "metadata": {},
     "outputs": [
      {
       "output_type": "stream",
       "stream": "stdout",
       "text": [
        "10 loops, best of 3: 49.1 ms per loop\n"
       ]
      }
     ],
     "prompt_number": 16
    },
    {
     "cell_type": "code",
     "collapsed": false,
     "input": [
      "# check they are the same\n",
      "np.linalg.norm(velArrayCopy-velthing.getAsNumpyArray()) "
     ],
     "language": "python",
     "metadata": {},
     "outputs": [
      {
       "metadata": {},
       "output_type": "pyout",
       "prompt_number": 17,
       "text": [
        "0.0"
       ]
      }
     ],
     "prompt_number": 17
    },
    {
     "cell_type": "markdown",
     "metadata": {},
     "source": [
      "so, only minor improvements in efficiency here at 29ms.. was expecting more.  in any case, certainly huge improvements in user interface. let's test out directly manipulating numpy arrays.  first, retrieve arrays from stg components:"
     ]
    },
    {
     "cell_type": "code",
     "collapsed": false,
     "input": [
      "velArray = velthing.getAsNumpyArray()"
     ],
     "language": "python",
     "metadata": {},
     "outputs": [],
     "prompt_number": 18
    },
    {
     "cell_type": "code",
     "collapsed": false,
     "input": [
      "meshArray = mesh.getAsNumpyArray()"
     ],
     "language": "python",
     "metadata": {},
     "outputs": [],
     "prompt_number": 19
    },
    {
     "cell_type": "markdown",
     "metadata": {},
     "source": [
      "great, now lets define a function to directly utilse these arrays:"
     ]
    },
    {
     "cell_type": "code",
     "collapsed": false,
     "input": [
      "# direct numpy function\n",
      "def TrigICNumpy1(meshArray, fieldArray):\n",
      "    for meshRow, fieldRow in zip(meshArray, fieldArray):\n",
      "        fieldRow[0] = math.sin(meshRow[0])**2\n",
      "        fieldRow[1] = math.cos(meshRow[1])**2"
     ],
     "language": "python",
     "metadata": {},
     "outputs": [],
     "prompt_number": 20
    },
    {
     "cell_type": "markdown",
     "metadata": {},
     "source": [
      "lets test this function out..  note that it directly writes to the stg memory via the numpy proxy"
     ]
    },
    {
     "cell_type": "code",
     "collapsed": false,
     "input": [
      "timeit TrigICNumpy1(meshArray, velArray)"
     ],
     "language": "python",
     "metadata": {},
     "outputs": [
      {
       "output_type": "stream",
       "stream": "stdout",
       "text": [
        "100 loops, best of 3: 9.56 ms per loop\n"
       ]
      }
     ],
     "prompt_number": 21
    },
    {
     "cell_type": "code",
     "collapsed": false,
     "input": [
      "# check they are the same\n",
      "np.linalg.norm(velArrayCopy-velArray) "
     ],
     "language": "python",
     "metadata": {},
     "outputs": [
      {
       "metadata": {},
       "output_type": "pyout",
       "prompt_number": 22,
       "text": [
        "0.0"
       ]
      }
     ],
     "prompt_number": 22
    },
    {
     "cell_type": "markdown",
     "metadata": {},
     "source": [
      "ok, factor of 3-4 faster.  not bad.  how else can we write this function?"
     ]
    },
    {
     "cell_type": "code",
     "collapsed": false,
     "input": [
      "# this version does the same but is faster\n",
      "def TrigICNumpy2(meshArray, fieldArray):\n",
      "    fieldArray[:,0] = np.sin(meshArray[:,0])**2\n",
      "    fieldArray[:,1] = np.cos(meshArray[:,1])**2"
     ],
     "language": "python",
     "metadata": {},
     "outputs": [],
     "prompt_number": 23
    },
    {
     "cell_type": "code",
     "collapsed": false,
     "input": [
      "timeit TrigICNumpy2(meshArray, velArray)"
     ],
     "language": "python",
     "metadata": {},
     "outputs": [
      {
       "output_type": "stream",
       "stream": "stdout",
       "text": [
        "10000 loops, best of 3: 121 \u00b5s per loop\n"
       ]
      }
     ],
     "prompt_number": 24
    },
    {
     "cell_type": "code",
     "collapsed": false,
     "input": [
      "# check they are the same\n",
      "np.linalg.norm(velArrayCopy-velArray) "
     ],
     "language": "python",
     "metadata": {},
     "outputs": [
      {
       "metadata": {},
       "output_type": "pyout",
       "prompt_number": 25,
       "text": [
        "0.0"
       ]
      }
     ],
     "prompt_number": 25
    },
    {
     "cell_type": "markdown",
     "metadata": {},
     "source": [
      "a further factor of 60 improvement. great success.. at least for simplish functions.  lets now try using the external package numexpr, which should provide for similar improvements even for complex functions"
     ]
    },
    {
     "cell_type": "code",
     "collapsed": false,
     "input": [
      "# ok, lets try doing this using numexpr\n",
      "def TrigICNumexpr(meshArray,velArray):\n",
      "    import numexpr as ne\n",
      "    #  numexpr doesnt seem to handle slices\n",
      "    meshslicex = meshArray[:,0]\n",
      "    meshslicey = meshArray[:,1]\n",
      "    ne.evaluate( \"sin(meshslicex)**2\", out=velArray[:,0])\n",
      "    ne.evaluate( \"cos(meshslicey)**2\", out=velArray[:,1])"
     ],
     "language": "python",
     "metadata": {},
     "outputs": [],
     "prompt_number": 26
    },
    {
     "cell_type": "code",
     "collapsed": false,
     "input": [
      "timeit TrigICNumexpr(meshArray, velArrayCopy)"
     ],
     "language": "python",
     "metadata": {},
     "outputs": [
      {
       "output_type": "stream",
       "stream": "stdout",
       "text": [
        "1000 loops, best of 3: 263 \u00b5s per loop\n"
       ]
      }
     ],
     "prompt_number": 27
    },
    {
     "cell_type": "code",
     "collapsed": false,
     "input": [
      "# check they are the same... note that velArray has been overwritten using the above, so compare to copy\n",
      "np.linalg.norm(velArrayCopy-velArray)"
     ],
     "language": "python",
     "metadata": {},
     "outputs": [
      {
       "metadata": {},
       "output_type": "pyout",
       "prompt_number": 28,
       "text": [
        "0.0"
       ]
      }
     ],
     "prompt_number": 28
    },
    {
     "cell_type": "markdown",
     "metadata": {},
     "source": [
      "ok, this one is slower than than regular numpy version.  remains to see how it does where the complexity is stepped up."
     ]
    },
    {
     "cell_type": "code",
     "collapsed": false,
     "input": [
      "underworld.Finalise()"
     ],
     "language": "python",
     "metadata": {},
     "outputs": [],
     "prompt_number": 29
    }
   ],
   "metadata": {}
  }
 ]
}