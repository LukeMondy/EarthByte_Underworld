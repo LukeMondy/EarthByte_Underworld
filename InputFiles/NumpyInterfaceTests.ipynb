{
 "metadata": {
  "name": ""
 },
 "nbformat": 3,
 "nbformat_minor": 0,
 "worksheets": [
  {
   "cells": [
    {
     "cell_type": "code",
     "collapsed": false,
     "input": [
      "import underworld\n",
      "import numpy as np\n",
      "import math\n",
      "import underworld._stgermain as stgermain\n",
      "from underworld import libUnderworld"
     ],
     "language": "python",
     "metadata": {},
     "outputs": [],
     "prompt_number": null
    },
    {
     "cell_type": "code",
     "collapsed": false,
     "input": [
      "# init using json\n",
      "underworld.Init(args=\"RayleighTaylorBenchmark.xml\")"
     ],
     "language": "python",
     "metadata": {},
     "outputs": [],
     "prompt_number": null
    },
    {
     "cell_type": "code",
     "collapsed": false,
     "input": [
      "underworld.Construct()\n"
     ],
     "language": "python",
     "metadata": {},
     "outputs": [],
     "prompt_number": null
    },
    {
     "cell_type": "code",
     "collapsed": false,
     "input": [
      "velthing = stgermain.GetLiveComponent(\"VelocityField\")"
     ],
     "language": "python",
     "metadata": {},
     "outputs": [],
     "prompt_number": null
    },
    {
     "cell_type": "code",
     "collapsed": false,
     "input": [
      "mesh = stgermain.GetLiveComponent(\"linearMesh\")"
     ],
     "language": "python",
     "metadata": {},
     "outputs": [],
     "prompt_number": null
    },
    {
     "cell_type": "markdown",
     "metadata": {},
     "source": [
      "let's test out the operator overloading"
     ]
    },
    {
     "cell_type": "code",
     "collapsed": false,
     "input": [
      "print velthing[2:100:110]"
     ],
     "language": "python",
     "metadata": {},
     "outputs": [],
     "prompt_number": null
    },
    {
     "cell_type": "code",
     "collapsed": false,
     "input": [
      "mesh[0:4225:1000]"
     ],
     "language": "python",
     "metadata": {},
     "outputs": [],
     "prompt_number": null
    },
    {
     "cell_type": "markdown",
     "metadata": {},
     "source": [
      "we can also set values using the numpy interface"
     ]
    },
    {
     "cell_type": "code",
     "collapsed": false,
     "input": [
      "velthing[10][0] = 1"
     ],
     "language": "python",
     "metadata": {},
     "outputs": [],
     "prompt_number": null
    },
    {
     "cell_type": "code",
     "collapsed": false,
     "input": [
      "velthing[10]"
     ],
     "language": "python",
     "metadata": {},
     "outputs": [],
     "prompt_number": null
    },
    {
     "cell_type": "code",
     "collapsed": false,
     "input": [
      "mesh[0][0] = 0.0001"
     ],
     "language": "python",
     "metadata": {},
     "outputs": [],
     "prompt_number": null
    },
    {
     "cell_type": "code",
     "collapsed": false,
     "input": [
      "mesh[0:4225:1000]"
     ],
     "language": "python",
     "metadata": {},
     "outputs": [],
     "prompt_number": null
    },
    {
     "cell_type": "markdown",
     "metadata": {},
     "source": [
      "great success..  now, lets do some further testing.  first, lets check the original implementation benchmark:"
     ]
    },
    {
     "cell_type": "code",
     "collapsed": false,
     "input": [
      "# the old interface version.  note that this function must write into stg memory\n",
      "def TrigICOrig(meshGuy, velGuy):\n",
      "    from libUnderworld import c_arrays\n",
      "    valuePtr = c_arrays.DoubleArray(2)\n",
      "\n",
      "    for ii in range(0,libUnderworld.StgDomain.Mesh_GetDomainSize(meshGuy,0)):\n",
      "    \tposition = c_arrays.DoubleArray_frompointer(libUnderworld.StgDomain.Mesh_GetVertex( meshGuy, ii ))\n",
      "        valuePtr[0] = math.sin(position[0])**2\n",
      "        valuePtr[1] = math.cos(position[1])**2\n",
      "        libUnderworld.StgFEM.FeVariable_SetValueAtNode( velGuy, ii, valuePtr.cast() )"
     ],
     "language": "python",
     "metadata": {},
     "outputs": [],
     "prompt_number": null
    },
    {
     "cell_type": "code",
     "collapsed": false,
     "input": [
      "timeit TrigICOrig(mesh, velthing)"
     ],
     "language": "python",
     "metadata": {},
     "outputs": [],
     "prompt_number": null
    },
    {
     "cell_type": "markdown",
     "metadata": {},
     "source": [
      "so, 34ms.  let's try using the operator overload method"
     ]
    },
    {
     "cell_type": "code",
     "collapsed": false,
     "input": [
      "# the overloaded square bracket interface function\n",
      "def TrigICOverload(meshGuy, velGuy):\n",
      "    for ii in range(0, velGuy.getAsNumpyArray().shape[0]):\n",
      "        velGuy[ii][0] = math.sin(meshGuy[ii][0])**2\n",
      "        velGuy[ii][1] = math.cos(meshGuy[ii][1])**2"
     ],
     "language": "python",
     "metadata": {},
     "outputs": [],
     "prompt_number": null
    },
    {
     "cell_type": "code",
     "collapsed": false,
     "input": [
      "# grab a copy to compare with later\n",
      "velArrayCopy = np.copy(velthing.getAsNumpyArray())"
     ],
     "language": "python",
     "metadata": {},
     "outputs": [],
     "prompt_number": null
    },
    {
     "cell_type": "code",
     "collapsed": false,
     "input": [
      "timeit TrigICOverload(mesh, velthing)"
     ],
     "language": "python",
     "metadata": {},
     "outputs": [],
     "prompt_number": null
    },
    {
     "cell_type": "code",
     "collapsed": false,
     "input": [
      "# check they are the same\n",
      "np.linalg.norm(velArrayCopy-velthing.getAsNumpyArray()) "
     ],
     "language": "python",
     "metadata": {},
     "outputs": [],
     "prompt_number": null
    },
    {
     "cell_type": "markdown",
     "metadata": {},
     "source": [
      "so, only minor improvements in efficiency here at 29ms.. was expecting more.  in any case, certainly huge improvements in user interface. let's test out directly manipulating numpy arrays.  first, retrieve arrays from stg components:"
     ]
    },
    {
     "cell_type": "code",
     "collapsed": false,
     "input": [
      "velArray = velthing.getAsNumpyArray()"
     ],
     "language": "python",
     "metadata": {},
     "outputs": [],
     "prompt_number": null
    },
    {
     "cell_type": "code",
     "collapsed": false,
     "input": [
      "meshArray = mesh.getAsNumpyArray()"
     ],
     "language": "python",
     "metadata": {},
     "outputs": [],
     "prompt_number": null
    },
    {
     "cell_type": "markdown",
     "metadata": {},
     "source": [
      "great, now lets define a function to directly utilse these arrays:"
     ]
    },
    {
     "cell_type": "code",
     "collapsed": false,
     "input": [
      "# direct numpy function\n",
      "def TrigICNumpy1(meshArray, fieldArray):\n",
      "    for meshRow, fieldRow in zip(meshArray, fieldArray):\n",
      "        fieldRow[0] = math.sin(meshRow[0])**2\n",
      "        fieldRow[1] = math.cos(meshRow[1])**2"
     ],
     "language": "python",
     "metadata": {},
     "outputs": [],
     "prompt_number": null
    },
    {
     "cell_type": "markdown",
     "metadata": {},
     "source": [
      "lets test this function out..  note that it directly writes to the stg memory via the numpy proxy"
     ]
    },
    {
     "cell_type": "code",
     "collapsed": false,
     "input": [
      "timeit TrigICNumpy1(meshArray, velArray)"
     ],
     "language": "python",
     "metadata": {},
     "outputs": [],
     "prompt_number": null
    },
    {
     "cell_type": "code",
     "collapsed": false,
     "input": [
      "# check they are the same\n",
      "np.linalg.norm(velArrayCopy-velArray) "
     ],
     "language": "python",
     "metadata": {},
     "outputs": [],
     "prompt_number": null
    },
    {
     "cell_type": "markdown",
     "metadata": {},
     "source": [
      "ok, factor of 3-4 faster.  not bad.  how else can we write this function?"
     ]
    },
    {
     "cell_type": "code",
     "collapsed": false,
     "input": [
      "# this version does the same but is faster\n",
      "def TrigICNumpy2(meshArray, fieldArray):\n",
      "    fieldArray[:,0] = np.sin(meshArray[:,0])**2\n",
      "    fieldArray[:,1] = np.cos(meshArray[:,1])**2"
     ],
     "language": "python",
     "metadata": {},
     "outputs": [],
     "prompt_number": null
    },
    {
     "cell_type": "code",
     "collapsed": false,
     "input": [
      "timeit TrigICNumpy2(meshArray, velArray)"
     ],
     "language": "python",
     "metadata": {},
     "outputs": [],
     "prompt_number": null
    },
    {
     "cell_type": "code",
     "collapsed": false,
     "input": [
      "# check they are the same\n",
      "np.linalg.norm(velArrayCopy-velArray) "
     ],
     "language": "python",
     "metadata": {},
     "outputs": [],
     "prompt_number": null
    },
    {
     "cell_type": "markdown",
     "metadata": {},
     "source": [
      "a further factor of 60 improvement. great success.. at least for simplish functions.  lets now try using the external package numexpr, which should provide for similar improvements even for complex functions"
     ]
    },
    {
     "cell_type": "code",
     "collapsed": false,
     "input": [
      "# ok, lets try doing this using numexpr\n",
      "def TrigICNumexpr(meshArray,velArray):\n",
      "    try:\n",
      "        import numexpr as ne\n",
      "    except:\n",
      "        return\n",
      "    #  numexpr doesnt seem to handle slices\n",
      "    meshslicex = meshArray[:,0]\n",
      "    meshslicey = meshArray[:,1]\n",
      "    ne.evaluate( \"sin(meshslicex)**2\", out=velArray[:,0])\n",
      "    ne.evaluate( \"cos(meshslicey)**2\", out=velArray[:,1])"
     ],
     "language": "python",
     "metadata": {},
     "outputs": [],
     "prompt_number": null
    },
    {
     "cell_type": "code",
     "collapsed": false,
     "input": [
      "timeit TrigICNumexpr(meshArray, velArrayCopy)"
     ],
     "language": "python",
     "metadata": {},
     "outputs": [],
     "prompt_number": null
    },
    {
     "cell_type": "code",
     "collapsed": false,
     "input": [
      "# check they are the same... note that velArray has been overwritten using the above, so compare to copy\n",
      "np.linalg.norm(velArrayCopy-velArray)"
     ],
     "language": "python",
     "metadata": {},
     "outputs": [],
     "prompt_number": null
    },
    {
     "cell_type": "markdown",
     "metadata": {},
     "source": [
      "ok, this one is slower than than regular numpy version.  remains to see how it does where the complexity is stepped up."
     ]
    }
   ],
   "metadata": {}
  }
 ]
}