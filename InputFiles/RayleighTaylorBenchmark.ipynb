{
 "metadata": {
  "name": ""
 },
 "nbformat": 3,
 "nbformat_minor": 0,
 "worksheets": [
  {
   "cells": [
    {
     "cell_type": "code",
     "collapsed": true,
     "input": [
      "## Rayleigh Taylor benchmark with No XML at all!                                                                              \n",
      "\n",
      "import underworld as uw\n",
      "\n",
      "import underworld.meshing  as meshing\n",
      "import underworld.geometry as geometry\n",
      "import underworld.fields   as fields\n",
      "import underworld.swarms   as swarms\n",
      "import underworld.material as material\n",
      "import underworld.visualisation as visual\n",
      "import underworld.shapes as shape\n",
      "import underworld.rheology as rheo\n",
      "import underworld.boundary as bc\n",
      "import underworld.equations as eq\n",
      "import underworld.physics as phys"
     ],
     "language": "python",
     "metadata": {},
     "outputs": [],
     "prompt_number": null
    },
    {
     "cell_type": "code",
     "collapsed": true,
     "input": [
      "gdict=uw.dictionary.GetDictionary()\n",
      "uw.dictionary.initDefaultParameters()"
     ],
     "language": "python",
     "metadata": {},
     "outputs": [],
     "prompt_number": null
    },
    {
     "cell_type": "code",
     "collapsed": true,
     "input": [
      "# For Rayleigh-Taylor\n",
      "minX=0.0\n",
      "maxX=0.9142\n",
      "minY=0.0\n",
      "maxY=1.0\n",
      "\n",
      "resX=32\n",
      "resY=32\n",
      "steps=10\n",
      "particlesPerCell=35\n",
      "\n",
      "dim = 2\n",
      "\n",
      "uw.dictionary.setParameters(gravity = 1.0,\n",
      "                 outputPath=\"raytay\",\n",
      "                 #restartTimestep  = 59,\n",
      "                 maxTimeSteps     = steps\n",
      "                 )\n",
      "            \n"
     ],
     "language": "python",
     "metadata": {},
     "outputs": [],
     "prompt_number": null
    },
    {
     "cell_type": "code",
     "collapsed": true,
     "input": [
      "\n",
      "# Set up a standard Q1P0 Mesh\n",
      "geoNames=geometry.setup.meshQ1P0CartesianCreate(dim=dim, pic=True, \n",
      "                                                minX=minX, maxX=maxX, minY=minY, maxY=maxY,\n",
      "                                                resX=resX, resY=resY,\n",
      "                                                particlesPerCell=particlesPerCell)\n",
      "\n",
      "# Need to set up Shapes and Rheology                                                                                            \n",
      "# Set up default background shape                                                                                               \n",
      "shape.setup.everywhereCreate(componentName=\"backgroundShape\")\n",
      "\n",
      "# Set's up the shape required for Rayleigh Taylor by default. Note that the order matters with shapes!                          \n",
      "shape.setup.belowCosinePlaneCreate(componentName=\"belowCosinePlaneShape\")\n",
      "\n",
      "# Sets up \"backgroundViscosity\" by default                                                                                      \n",
      "rheo.setup.isoviscousCreate( componentName=\"backgroundViscosity\", eta0=1.0)  # or could set eta0 in the above Parameters list        \n",
      "rheo.setup.isoviscousCreate( componentName=\"lightLayerViscosity\", eta0=1.0)\n",
      "# connect shapes and rheologies   \n",
      "\n",
      "material.setup.materialCreate( componentName = \"background\",\n",
      "                               rheologyName  = \"backgroundViscosity\",\n",
      "                               shapeName     = \"backgroundShape\",\n",
      "                               density       = 1.0\n",
      "                               )\n",
      "material.setup.materialCreate( componentName = \"lightLayer\",\n",
      "                               rheologyName  = \"lightLayerViscosity\",\n",
      "                               shapeName     = \"belowCosinePlaneShape\",\n",
      "                               density       = 0.0\n",
      "                               )\n",
      "\n",
      "\n",
      "# Need a system of Equations and Solver                                                                                         \n",
      "#eq.stokesSystemCreate(solver=\"stokesblockkspinterface\", buoyancy=True, pic=True)                                                         \n",
      "# The uzawa by default at the moment                                                                                            \n",
      "eq.setup.stokesSystemCreate(buoyancy=True, pic=True)\n",
      "#help(eq.setup.stokesSystemCreate)\n",
      "\n",
      "# Create BC's                                                                                                                   \n",
      "\n",
      "# Free slip on side walls                                                                                                       \n",
      "bc.setup.wallFreeSlipCreate( wall=\"left\")\n",
      "bc.setup.wallFreeSlipCreate( wall=\"right\")\n",
      "# No slip on top and bottom                                                                                                     \n",
      "bc.setup.wallNoSlipCreate( wall=\"top\")\n",
      "bc.setup.wallNoSlipCreate( wall=\"bottom\")\n",
      "\n",
      "# Let particles leave box just in case                                                                                          \n",
      "uw.dictionary.UpdateDictWithComponent( gdict, name=\"escapedRoutine\", Type=\"EscapedRoutine\")\n",
      "fields.setup.operatorFeVariableCreate(feVariableName=\"VelocityField\", operator=\"Magnitude\")\n",
      "#uw.Construct()\n",
      "#uw.Step()\n"
     ],
     "language": "python",
     "metadata": {},
     "outputs": [],
     "prompt_number": null
    },
    {
     "cell_type": "code",
     "collapsed": false,
     "input": [
      "#help(uw.Step)\n"
     ],
     "language": "python",
     "metadata": {},
     "outputs": [],
     "prompt_number": null
    },
    {
     "cell_type": "code",
     "collapsed": false,
     "input": [
      "#uw.importToolBox('gLucifer')\n",
      "\n",
      "# Create a field to visualise.\n",
      "fields.setup.operatorFeVariableCreate(feVariableName=\"VelocityField\", operator=\"Magnitude\")\n",
      "\n",
      "visual.setup.cameraCreate(centreFieldVariable=\"VelocityField\", name=\"camera\")\n",
      "#create some arrows for visualisation\n",
      "visual.setup.fieldArrowsCreate(name=\"velocityArrows\", fieldVariable=\"VelocityField\")\n",
      "#vis.viewPortCreate(fieldVariable=\"VelocityField\", camera=\"camera\")\n",
      "\n",
      "#visual.setup.viewPortCreate(name=\"PressureFieldVP\",fieldVariable=\"PressureField\", camera=\"camera\")\n",
      "visual.setup.viewPortCreate(fieldVariable=\"PressureField\", camera=\"camera\")\n",
      "visual.setup.databaseCreate()\n",
      "\n",
      "# todo: get swarm etc from outputs from above\n",
      "visual.setup.swarmViewerCreate(name=\"particleDots\", pointSize=2.5, swarm=\"materialSwarm\", variable=\"Density\")\n",
      "visual.setup.viewPortCreate(name=\"particleDotsVP\",scalarFieldMap=\"particleDots\", border=\"border\", camera=\"camera\")\n",
      "visual.setup.viewPortCreate(fieldVariable=\"magnitudeVelocityField\", camera=\"camera\", arrows=\"velocityArrows\")\n",
      "\n",
      "\n",
      "visual.setup.windowCreate(viewPortList=[\"PressureFieldVP magnitudeVelocityFieldVP particleDotsVP\"])\n",
      "\n"
     ],
     "language": "python",
     "metadata": {},
     "outputs": [],
     "prompt_number": null
    },
    {
     "cell_type": "code",
     "collapsed": false,
     "input": [
      "uw.Construct()\n",
      "uw.Step(steps=2)"
     ],
     "language": "python",
     "metadata": {},
     "outputs": [],
     "prompt_number": null
    },
    {
     "cell_type": "code",
     "collapsed": false,
     "input": [
      "# Create a field to visualise.\n",
      "import glucifer.pylab as plt\n",
      "\n",
      "fig = plt.figure(num=\"PressureFieldImage\")\n",
      "fig.Surface(field=\"PressureField\")\n",
      "fig.show()"
     ],
     "language": "python",
     "metadata": {},
     "outputs": [],
     "prompt_number": null
    },
    {
     "cell_type": "code",
     "collapsed": true,
     "input": [
      "fig = plt.figure(num=\"need3g2y\")\n",
      "fig.Points(swarm=\"materialSwarm\", colourVariable=\"materialSwarm-MaterialIndex\", pointSize=3.)"
     ],
     "language": "python",
     "metadata": {},
     "outputs": [],
     "prompt_number": null
    },
    {
     "cell_type": "code",
     "collapsed": true,
     "input": [
      "fig.show()"
     ],
     "language": "python",
     "metadata": {},
     "outputs": [],
     "prompt_number": null
    },
    {
     "cell_type": "code",
     "collapsed": false,
     "input": [
      "\n"
     ],
     "language": "python",
     "metadata": {},
     "outputs": [],
     "prompt_number": null
    }
   ],
   "metadata": {}
  }
 ]
}