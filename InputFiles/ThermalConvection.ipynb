{
 "metadata": {
  "name": ""
 },
 "nbformat": 3,
 "nbformat_minor": 0,
 "worksheets": [
  {
   "cells": [
    {
     "cell_type": "code",
     "collapsed": false,
     "input": [
      "## Thermal Convection                                                                             \n",
      "\n",
      "import underworld as underworld\n",
      "\n",
      "import underworld.meshing  as meshing\n",
      "import underworld.geometry as geometry\n",
      "import underworld.fields   as fields\n",
      "import underworld.swarms   as swarms\n",
      "import underworld.material as material\n",
      "import underworld.visualisation as visualisation\n",
      "import underworld.shapes as shape\n",
      "import underworld.rheology as rheology\n",
      "import underworld.boundary as boundary\n",
      "import underworld.equations as eq\n",
      "import underworld.physics as phys\n",
      "import glucifer.pylab as plt\n",
      "\n",
      "gdict=underworld.dictionary.GetDictionary()"
     ],
     "language": "python",
     "metadata": {},
     "outputs": [],
     "prompt_number": null
    },
    {
     "cell_type": "code",
     "collapsed": false,
     "input": [
      "# These defaults should be split up either by problem or by module (fields etc)\n",
      "\n",
      "underworld.dictionary.initDefaultParameters()\n",
      "\n",
      "minX=0.0\n",
      "maxX=1.0\n",
      "minY=0.0\n",
      "maxY=1.0\n",
      "\n",
      "resX=64\n",
      "resY=64\n",
      "steps=6\n",
      "\n",
      "particlesPerCell=35\n",
      "\n",
      "dim = 2\n",
      "\n",
      "underworld.dictionary.setParameters(\n",
      "                    gravity = 1.0,\n",
      "                    outputPath=\"thermalConvection\"+str(resX),\n",
      "                    maxTimeSteps = steps\n",
      "                 )\n"
     ],
     "language": "python",
     "metadata": {},
     "outputs": [],
     "prompt_number": null
    },
    {
     "cell_type": "code",
     "collapsed": false,
     "input": [
      "\n",
      "# Set up a standard Mesh of bilinear elements (Q1P0 - and with temperature field)\n",
      "\n",
      "geoNames = geometry.setup.meshQ1P0CartesianCreate(dim=dim,  \n",
      "                                                  minX=minX, maxX=maxX, minY=minY, maxY=maxY,\n",
      "                                                  resX=resX, resY=resY,\n",
      "                                                  pic=True,particlesPerCell=particlesPerCell, \n",
      "                                                  withTemperature=True)\n"
     ],
     "language": "python",
     "metadata": {},
     "outputs": [],
     "prompt_number": null
    },
    {
     "cell_type": "code",
     "collapsed": false,
     "input": [
      "# Need to set up Shapes and Rheology\n",
      "# Set up default background shape\n",
      "shape.setup.everywhereCreate(componentName=\"backgroundShape\")\n",
      "\n",
      "# Sets up \"backgroundViscosity\" by default\n",
      "rheology.setup.isoviscousCreate( componentName=\"backgroundViscosity\", eta0=1.0)  # or could set eta0 in the above Parameters list\n",
      "\n",
      "# connect shapes and rheologies\n",
      "material.setup.materialCreate( componentName = \"background\",\n",
      "                               rheologyName  = \"backgroundViscosity\",\n",
      "                               shapeName     = \"backgroundShape\",\n",
      "                               density       = 1.0\n",
      "                               )\n"
     ],
     "language": "python",
     "metadata": {},
     "outputs": [],
     "prompt_number": null
    },
    {
     "cell_type": "code",
     "collapsed": false,
     "input": [
      "# Need a system of Equations and Solver                                                                                         \n",
      "# eq.stokesSystemCreate(solver=\"stokesblockkspinterface\", buoyancy=True, pic=True)                                                         \n",
      "# The uzawa by default at the moment\n",
      "\n",
      "eq.setup.stokesSystemCreate(buoyancy=True, pic=True, buoyancyType=\"thermal\")\n",
      "#help(eq.setup.stokesSystemCreate)\n",
      "\n"
     ],
     "language": "python",
     "metadata": {},
     "outputs": [],
     "prompt_number": null
    },
    {
     "cell_type": "code",
     "collapsed": false,
     "input": [
      "eq.setup.advectionDiffusionEquationCreate(equationName=\"energyEqn\",                                                        \n",
      "                                          diffusivity=1.0 )\n",
      "\n"
     ],
     "language": "python",
     "metadata": {},
     "outputs": [],
     "prompt_number": null
    },
    {
     "cell_type": "code",
     "collapsed": false,
     "input": [
      "# Create BC's                                                                                                                   \n",
      "\n",
      "# Free slip on side walls\n",
      "boundary.setup.wallFreeSlipCreate( wall=\"left\")\n",
      "boundary.setup.wallFreeSlipCreate( wall=\"right\")\n",
      "\n",
      "# Free slip on top\n",
      "boundary.setup.wallFreeSlipCreate( wall=\"top\")\n",
      "\n",
      "# Free slip on bottom\n",
      "boundary.setup.wallFreeSlipCreate( wall=\"bottom\")\n",
      "\n",
      "boundary.setup.wallTemperatureCreate(wall=\"bottom\", value=1.0)\n",
      "boundary.setup.wallTemperatureCreate(wall=\"top\", value=0.0)\n",
      "\n",
      "boundary.setup.temperatureICSinusoidalCreate(TopLayerCoord=maxY, BottomLayerCoord=minY, BottomLayerBC=1.0)\n",
      "\n",
      "# Let particles leave box just in case                                                                                          \n",
      "underworld.dictionary.UpdateDictWithComponent( gdict, name=\"escapedRoutine\", Type=\"EscapedRoutine\")\n",
      " "
     ],
     "language": "python",
     "metadata": {},
     "outputs": [],
     "prompt_number": null
    },
    {
     "cell_type": "code",
     "collapsed": false,
     "input": [
      "\n",
      "fields.setup.operatorFeVariableCreate(feVariableName=\"TemperatureField\", \n",
      "                                      operator=\"Gradient\", \n",
      "                                      componentName=\"TemperatureGradientsField\")\n",
      "# These are used in the visualisation \n",
      "fields.setup.operatorFeVariableCreate(feVariableName=\"VelocityField\", \n",
      "                                      operator=\"Magnitude\", \n",
      "                                      componentName=\"VelocityMagnitudeField\")\n",
      "fields.setup.operatorFeVariableCreate(feVariableName=\"VelocityField\",\n",
      "                                      operator=\"Gradient\", \n",
      "                                      componentName=\"VelocityGradientsField\")\n",
      "fields.setup.operatorFeVariableCreate(feVariableName=\"VelocityGradientsField\", \n",
      "                                      operator=\"TensorInvariant\", \n",
      "                                      componentName=\"VelocityGradientsInvariantField\")\n",
      "\n",
      "# This is data that is \n",
      "underworld.dictionary.addCheckPointVariables([\"TemperatureGradientsField\", \n",
      "                                   \"VelocityGradientsField\", \n",
      "                                   \"VelocityGradientsInvariantField\"])\n"
     ],
     "language": "python",
     "metadata": {},
     "outputs": [],
     "prompt_number": null
    },
    {
     "cell_type": "code",
     "collapsed": false,
     "input": [
      "underworld.Construct()\n",
      "\n",
      "for timestep in range (0,steps):\n",
      "    underworld.Step(steps=1)\n"
     ],
     "language": "python",
     "metadata": {},
     "outputs": [],
     "prompt_number": null
    },
    {
     "cell_type": "code",
     "collapsed": false,
     "input": [
      "pressFig = plt.figure(edgecolour=\"black\")\n",
      "pressFig.Surface(field=\"PressureField\")\n",
      "pressFig.show()"
     ],
     "language": "python",
     "metadata": {},
     "outputs": [],
     "prompt_number": null
    },
    {
     "cell_type": "code",
     "collapsed": false,
     "input": [
      "velFig = plt.figure(edgecolour=\"black\")\n",
      "velFig.VectorArrows(field=\"VelocityField\", lengthScale=0.1, arrowHeadSize=0.2)\n",
      "velFig.Surface(field=\"VelocityMagnitudeField\")\n",
      "velFig.show()"
     ],
     "language": "python",
     "metadata": {},
     "outputs": [],
     "prompt_number": null
    },
    {
     "cell_type": "code",
     "collapsed": false,
     "input": [
      "tempFig = plt.figure(edgecolour=\"black\")\n",
      "tempFig.Surface(field=\"TemperatureField\", colours = \"lightblue red\")\n",
      "tempFig.show()"
     ],
     "language": "python",
     "metadata": {},
     "outputs": [],
     "prompt_number": null
    },
    {
     "cell_type": "code",
     "collapsed": false,
     "input": [],
     "language": "python",
     "metadata": {},
     "outputs": []
    }
   ],
   "metadata": {}
  }
 ]
}