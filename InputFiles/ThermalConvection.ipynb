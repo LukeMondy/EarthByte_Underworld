{
 "metadata": {
  "name": "",
  "signature": "sha256:90f82c3b2f3fe0ba777225675fe06a51d2bc8fea006ac476ce0badbe21d497f5"
 },
 "nbformat": 3,
 "nbformat_minor": 0,
 "worksheets": [
  {
   "cells": [
    {
     "cell_type": "code",
     "collapsed": false,
     "input": [
      "## Thermal Convection                                                                             \n",
      "\n",
      "from pprint import pprint\n",
      "\n",
      "import underworld as underworld\n",
      "\n",
      "import underworld.meshing  as meshing\n",
      "import underworld.geometry as geometry\n",
      "import underworld.fields   as fields\n",
      "import underworld.swarms   as swarms\n",
      "import underworld.material as material\n",
      "import underworld.visualisation as visualisation\n",
      "# import underworld.fields._fields as fields\n",
      "\n",
      "# import underworld.swarms._swarms as swarms\n",
      "# import underworld.matrix._matrix as matrix\n",
      "import underworld.shapes as shape\n",
      "import underworld.rheology as rheology\n",
      "import underworld.boundary as boundary\n",
      "import underworld.equations as eq\n",
      "import underworld.physics as phys\n",
      "\n",
      "underworld.Init()\n",
      "\n",
      "# We will be using the built-in visualisation tools\n",
      "\n",
      "underworld.dictionary.importToolBox('gLucifer')\n",
      "\n",
      "gdict=underworld.dictionary.GetDictionary()\n",
      "\n",
      "underworld.dictionary.PrintPretty(gdict)"
     ],
     "language": "python",
     "metadata": {},
     "outputs": [
      {
       "ename": "ImportError",
       "evalue": "dlopen(/Users/lmoresi/+Codes/underworld2/libUnderworld/libUnderworldPy/_StGermain.so, 10): Symbol not found: _Stg_PCRegister\n  Referenced from: /Volumes/Data/Users/lmoresi/+Codes/underworld2/libUnderworld/build/lib/libSolvers.dylib\n  Expected in: flat namespace\n in /Volumes/Data/Users/lmoresi/+Codes/underworld2/libUnderworld/build/lib/libSolvers.dylib",
       "output_type": "pyerr",
       "traceback": [
        "\u001b[0;31m---------------------------------------------------------------------------\u001b[0m\n\u001b[0;31mImportError\u001b[0m                               Traceback (most recent call last)",
        "\u001b[0;32m<ipython-input-2-5ea82690552f>\u001b[0m in \u001b[0;36m<module>\u001b[0;34m()\u001b[0m\n\u001b[1;32m      3\u001b[0m \u001b[0;32mfrom\u001b[0m \u001b[0mpprint\u001b[0m \u001b[0;32mimport\u001b[0m \u001b[0mpprint\u001b[0m\u001b[0;34m\u001b[0m\u001b[0m\n\u001b[1;32m      4\u001b[0m \u001b[0;34m\u001b[0m\u001b[0m\n\u001b[0;32m----> 5\u001b[0;31m \u001b[0;32mimport\u001b[0m \u001b[0munderworld\u001b[0m \u001b[0;32mas\u001b[0m \u001b[0munderworld\u001b[0m\u001b[0;34m\u001b[0m\u001b[0m\n\u001b[0m\u001b[1;32m      6\u001b[0m \u001b[0;34m\u001b[0m\u001b[0m\n\u001b[1;32m      7\u001b[0m \u001b[0;32mimport\u001b[0m \u001b[0munderworld\u001b[0m\u001b[0;34m.\u001b[0m\u001b[0mmeshing\u001b[0m  \u001b[0;32mas\u001b[0m \u001b[0mmeshing\u001b[0m\u001b[0;34m\u001b[0m\u001b[0m\n",
        "\u001b[0;32m/Users/lmoresi/+Codes/underworld2/underworld/__init__.py\u001b[0m in \u001b[0;36m<module>\u001b[0;34m()\u001b[0m\n\u001b[1;32m      8\u001b[0m \u001b[0m_sys\u001b[0m\u001b[0;34m.\u001b[0m\u001b[0msetdlopenflags\u001b[0m\u001b[0;34m(\u001b[0m \u001b[0m_oldflags\u001b[0m \u001b[0;34m|\u001b[0m \u001b[0m_ctypes\u001b[0m\u001b[0;34m.\u001b[0m\u001b[0mRTLD_GLOBAL\u001b[0m \u001b[0;34m)\u001b[0m\u001b[0;34m\u001b[0m\u001b[0m\n\u001b[1;32m      9\u001b[0m \u001b[0;34m\u001b[0m\u001b[0m\n\u001b[0;32m---> 10\u001b[0;31m \u001b[0;32mimport\u001b[0m \u001b[0mlibUnderworld\u001b[0m\u001b[0;34m\u001b[0m\u001b[0m\n\u001b[0m\u001b[1;32m     11\u001b[0m \u001b[0;32mfrom\u001b[0m \u001b[0m_underworld\u001b[0m \u001b[0;32mimport\u001b[0m \u001b[0;34m*\u001b[0m\u001b[0;34m\u001b[0m\u001b[0m\n\u001b[1;32m     12\u001b[0m \u001b[0;32mimport\u001b[0m \u001b[0mboundary\u001b[0m\u001b[0;34m\u001b[0m\u001b[0m\n",
        "\u001b[0;32m/Users/lmoresi/+Codes/underworld2/libUnderworld/__init__.py\u001b[0m in \u001b[0;36m<module>\u001b[0;34m()\u001b[0m\n\u001b[0;32m----> 1\u001b[0;31m \u001b[0;32mfrom\u001b[0m \u001b[0mlibUnderworldPy\u001b[0m \u001b[0;32mimport\u001b[0m \u001b[0;34m*\u001b[0m\u001b[0;34m\u001b[0m\u001b[0m\n\u001b[0m",
        "\u001b[0;32m/Users/lmoresi/+Codes/underworld2/libUnderworld/libUnderworldPy/__init__.py\u001b[0m in \u001b[0;36m<module>\u001b[0;34m()\u001b[0m\n\u001b[0;32m----> 1\u001b[0;31m \u001b[0;32mimport\u001b[0m \u001b[0mStGermain\u001b[0m\u001b[0;34m\u001b[0m\u001b[0m\n\u001b[0m\u001b[1;32m      2\u001b[0m \u001b[0;32mimport\u001b[0m \u001b[0mStgDomain\u001b[0m\u001b[0;34m\u001b[0m\u001b[0m\n\u001b[1;32m      3\u001b[0m \u001b[0;32mimport\u001b[0m \u001b[0mStgFEM\u001b[0m\u001b[0;34m\u001b[0m\u001b[0m\n\u001b[1;32m      4\u001b[0m \u001b[0;32mimport\u001b[0m \u001b[0mPICellerator\u001b[0m\u001b[0;34m\u001b[0m\u001b[0m\n\u001b[1;32m      5\u001b[0m \u001b[0;32mimport\u001b[0m \u001b[0mUnderworld\u001b[0m\u001b[0;34m\u001b[0m\u001b[0m\n",
        "\u001b[0;32m/Users/lmoresi/+Codes/underworld2/libUnderworld/libUnderworldPy/StGermain.py\u001b[0m in \u001b[0;36m<module>\u001b[0;34m()\u001b[0m\n\u001b[1;32m     26\u001b[0m                 \u001b[0mfp\u001b[0m\u001b[0;34m.\u001b[0m\u001b[0mclose\u001b[0m\u001b[0;34m(\u001b[0m\u001b[0;34m)\u001b[0m\u001b[0;34m\u001b[0m\u001b[0m\n\u001b[1;32m     27\u001b[0m             \u001b[0;32mreturn\u001b[0m \u001b[0m_mod\u001b[0m\u001b[0;34m\u001b[0m\u001b[0m\n\u001b[0;32m---> 28\u001b[0;31m     \u001b[0m_StGermain\u001b[0m \u001b[0;34m=\u001b[0m \u001b[0mswig_import_helper\u001b[0m\u001b[0;34m(\u001b[0m\u001b[0;34m)\u001b[0m\u001b[0;34m\u001b[0m\u001b[0m\n\u001b[0m\u001b[1;32m     29\u001b[0m     \u001b[0;32mdel\u001b[0m \u001b[0mswig_import_helper\u001b[0m\u001b[0;34m\u001b[0m\u001b[0m\n\u001b[1;32m     30\u001b[0m \u001b[0;32melse\u001b[0m\u001b[0;34m:\u001b[0m\u001b[0;34m\u001b[0m\u001b[0m\n",
        "\u001b[0;32m/Users/lmoresi/+Codes/underworld2/libUnderworld/libUnderworldPy/StGermain.py\u001b[0m in \u001b[0;36mswig_import_helper\u001b[0;34m()\u001b[0m\n\u001b[1;32m     22\u001b[0m         \u001b[0;32mif\u001b[0m \u001b[0mfp\u001b[0m \u001b[0;32mis\u001b[0m \u001b[0;32mnot\u001b[0m \u001b[0mNone\u001b[0m\u001b[0;34m:\u001b[0m\u001b[0;34m\u001b[0m\u001b[0m\n\u001b[1;32m     23\u001b[0m             \u001b[0;32mtry\u001b[0m\u001b[0;34m:\u001b[0m\u001b[0;34m\u001b[0m\u001b[0m\n\u001b[0;32m---> 24\u001b[0;31m                 \u001b[0m_mod\u001b[0m \u001b[0;34m=\u001b[0m \u001b[0mimp\u001b[0m\u001b[0;34m.\u001b[0m\u001b[0mload_module\u001b[0m\u001b[0;34m(\u001b[0m\u001b[0;34m'_StGermain'\u001b[0m\u001b[0;34m,\u001b[0m \u001b[0mfp\u001b[0m\u001b[0;34m,\u001b[0m \u001b[0mpathname\u001b[0m\u001b[0;34m,\u001b[0m \u001b[0mdescription\u001b[0m\u001b[0;34m)\u001b[0m\u001b[0;34m\u001b[0m\u001b[0m\n\u001b[0m\u001b[1;32m     25\u001b[0m             \u001b[0;32mfinally\u001b[0m\u001b[0;34m:\u001b[0m\u001b[0;34m\u001b[0m\u001b[0m\n\u001b[1;32m     26\u001b[0m                 \u001b[0mfp\u001b[0m\u001b[0;34m.\u001b[0m\u001b[0mclose\u001b[0m\u001b[0;34m(\u001b[0m\u001b[0;34m)\u001b[0m\u001b[0;34m\u001b[0m\u001b[0m\n",
        "\u001b[0;31mImportError\u001b[0m: dlopen(/Users/lmoresi/+Codes/underworld2/libUnderworld/libUnderworldPy/_StGermain.so, 10): Symbol not found: _Stg_PCRegister\n  Referenced from: /Volumes/Data/Users/lmoresi/+Codes/underworld2/libUnderworld/build/lib/libSolvers.dylib\n  Expected in: flat namespace\n in /Volumes/Data/Users/lmoresi/+Codes/underworld2/libUnderworld/build/lib/libSolvers.dylib"
       ]
      }
     ],
     "prompt_number": 2
    },
    {
     "cell_type": "code",
     "collapsed": false,
     "input": [
      "# These defaults should be split up either by problem or by module (fields etc)\n",
      "\n",
      "underworld.dictionary.initDefaultParameters()\n",
      "\n",
      "minX=0.0\n",
      "maxX=1.0\n",
      "minY=0.0\n",
      "maxY=1.0\n",
      "\n",
      "resX=64\n",
      "resY=64\n",
      "steps=6\n",
      "\n",
      "particlesPerCell=35\n",
      "\n",
      "dim = 2\n",
      "\n",
      "underworld.dictionary.setParameters(\n",
      "                    gravity = 1.0,\n",
      "                    outputPath=\"thermalConvection\"+str(resX),\n",
      "                    maxTimeSteps = steps\n",
      "                 )\n"
     ],
     "language": "python",
     "metadata": {},
     "outputs": [
      {
       "ename": "NameError",
       "evalue": "name 'underworld' is not defined",
       "output_type": "pyerr",
       "traceback": [
        "\u001b[0;31m---------------------------------------------------------------------------\u001b[0m\n\u001b[0;31mNameError\u001b[0m                                 Traceback (most recent call last)",
        "\u001b[0;32m<ipython-input-1-0292d5c31f0d>\u001b[0m in \u001b[0;36m<module>\u001b[0;34m()\u001b[0m\n\u001b[1;32m      1\u001b[0m \u001b[0;31m# These defaults should be split up either by problem or by module (fields etc)\u001b[0m\u001b[0;34m\u001b[0m\u001b[0;34m\u001b[0m\u001b[0m\n\u001b[1;32m      2\u001b[0m \u001b[0;34m\u001b[0m\u001b[0m\n\u001b[0;32m----> 3\u001b[0;31m \u001b[0munderworld\u001b[0m\u001b[0;34m.\u001b[0m\u001b[0mdictionary\u001b[0m\u001b[0;34m.\u001b[0m\u001b[0minitDefaultParameters\u001b[0m\u001b[0;34m(\u001b[0m\u001b[0;34m)\u001b[0m\u001b[0;34m\u001b[0m\u001b[0m\n\u001b[0m\u001b[1;32m      4\u001b[0m \u001b[0;34m\u001b[0m\u001b[0m\n\u001b[1;32m      5\u001b[0m \u001b[0mminX\u001b[0m\u001b[0;34m=\u001b[0m\u001b[0;36m0.0\u001b[0m\u001b[0;34m\u001b[0m\u001b[0m\n",
        "\u001b[0;31mNameError\u001b[0m: name 'underworld' is not defined"
       ]
      }
     ],
     "prompt_number": 1
    },
    {
     "cell_type": "code",
     "collapsed": false,
     "input": [
      "\n",
      "# Set up a standard Mesh of bilinear elements (Q1P0 - and with temperature field)\n",
      "\n",
      "geoNames = geometry.setup.meshQ1P0CartesianCreate(dim=dim,  \n",
      "                                                  minX=minX, maxX=maxX, minY=minY, maxY=maxY,\n",
      "                                                  resX=resX, resY=resY,\n",
      "                                                  pic=True,particlesPerCell=particlesPerCell, \n",
      "                                                  withTemperature=True)\n"
     ],
     "language": "python",
     "metadata": {},
     "outputs": [],
     "prompt_number": 3
    },
    {
     "cell_type": "code",
     "collapsed": false,
     "input": [
      "# Need to set up Shapes and Rheology\n",
      "# Set up default background shape\n",
      "shape.setup.everywhereCreate(componentName=\"backgroundShape\")\n",
      "\n",
      "# Sets up \"backgroundViscosity\" by default\n",
      "rheology.setup.isoviscousCreate( componentName=\"backgroundViscosity\", eta0=1.0)  # or could set eta0 in the above Parameters list\n",
      "\n",
      "# connect shapes and rheologies\n",
      "material.setup.materialCreate( componentName = \"background\",\n",
      "                               rheologyName  = \"backgroundViscosity\",\n",
      "                               shapeName     = \"backgroundShape\",\n",
      "                               density       = 1.0\n",
      "                               )\n"
     ],
     "language": "python",
     "metadata": {},
     "outputs": [
      {
       "metadata": {},
       "output_type": "pyout",
       "prompt_number": 4,
       "text": [
        "{'Rheology': 'backgroundViscosity',\n",
        " 'Shape': 'backgroundShape',\n",
        " 'Type': 'RheologyMaterial',\n",
        " 'alpha': '0.0',\n",
        " 'density': '1.0',\n",
        " 'name': 'background',\n",
        " 'referenceTemperature': '0.0'}"
       ]
      }
     ],
     "prompt_number": 4
    },
    {
     "cell_type": "code",
     "collapsed": false,
     "input": [
      "# Need a system of Equations and Solver                                                                                         \n",
      "# eq.stokesSystemCreate(solver=\"stokesblockkspinterface\", buoyancy=True, pic=True)                                                         \n",
      "# The uzawa by default at the moment\n",
      "\n",
      "eq.setup.stokesSystemCreate(buoyancy=True, pic=True, buoyancyType=\"thermal\")\n",
      "#help(eq.setup.stokesSystemCreate)\n",
      "\n"
     ],
     "language": "python",
     "metadata": {},
     "outputs": [],
     "prompt_number": 5
    },
    {
     "cell_type": "code",
     "collapsed": false,
     "input": [
      "eq.setup.advectionDiffusionEquationCreate(equationName=\"energyEqn\",                                                        \n",
      "                                          diffusivity=1.0 )\n",
      "\n"
     ],
     "language": "python",
     "metadata": {},
     "outputs": [],
     "prompt_number": 6
    },
    {
     "cell_type": "code",
     "collapsed": false,
     "input": [
      "# Create BC's                                                                                                                   \n",
      "\n",
      "# Free slip on side walls\n",
      "boundary.setup.wallFreeSlipCreate( wall=\"left\")\n",
      "boundary.setup.wallFreeSlipCreate( wall=\"right\")\n",
      "\n",
      "# Free slip on top\n",
      "boundary.setup.wallFreeSlipCreate( wall=\"top\")\n",
      "\n",
      "# Free slip on bottom\n",
      "boundary.setup.wallFreeSlipCreate( wall=\"bottom\")\n",
      "\n",
      "boundary.setup.wallTemperatureCreate(wall=\"bottom\", value=1.0)\n",
      "boundary.setup.wallTemperatureCreate(wall=\"top\", value=0.0)\n",
      "\n",
      "boundary.setup.temperatureICSinusoidalCreate(TopLayerCoord=maxY, BottomLayerCoord=minY, BottomLayerBC=1.0)\n",
      "\n",
      "# Let particles leave box just in case                                                                                          \n",
      "underworld.dictionary.UpdateDictWithComponent( gdict, name=\"escapedRoutine\", Type=\"EscapedRoutine\")\n",
      "\n",
      "#pd(gdict)                                                                                                                      \n",
      "#help(swarm._integrationSwarmCreate)     "
     ],
     "language": "python",
     "metadata": {},
     "outputs": [
      {
       "metadata": {},
       "output_type": "pyout",
       "prompt_number": 7,
       "text": [
        "{'Type': 'EscapedRoutine', 'name': 'escapedRoutine'}"
       ]
      }
     ],
     "prompt_number": 7
    },
    {
     "cell_type": "code",
     "collapsed": false,
     "input": [
      "\n",
      "fields.setup.operatorFeVariableCreate(feVariableName=\"TemperatureField\", \n",
      "                                      operator=\"Gradient\", \n",
      "                                      componentName=\"TemperatureGradientsField\")\n",
      "# These are used in the visualisation \n",
      "fields.setup.operatorFeVariableCreate(feVariableName=\"VelocityField\", \n",
      "                                      operator=\"Magnitude\", \n",
      "                                      componentName=\"VelocityMagnitudeField\")\n",
      "fields.setup.operatorFeVariableCreate(feVariableName=\"VelocityField\",\n",
      "                                      operator=\"Gradient\", \n",
      "                                      componentName=\"VelocityGradientsField\")\n",
      "fields.setup.operatorFeVariableCreate(feVariableName=\"VelocityGradientsField\", \n",
      "                                      operator=\"TensorInvariant\", \n",
      "                                      componentName=\"VelocityGradientsInvariantField\")\n",
      "\n",
      "# This is data that is \n",
      "underworld.dictionary.addCheckPointVariables([\"TemperatureGradientsField\", \n",
      "                                   \"VelocityGradientsField\", \n",
      "                                   \"VelocityGradientsInvariantField\"])\n",
      "\n",
      "# For visualisation we can either build a static image or we can load up a \n",
      "# database to access via the gLucifer viewer\n",
      "\n",
      "visualisation.setup.databaseCreate()\n",
      "\n",
      "visualisation.setup.cameraCreate(centreFieldVariable=\"VelocityField\", name=\"camera\")\n",
      "#create some arrows for visualisation\n",
      "visualisation.setup.fieldArrowsCreate(name=\"velocityArrows\", fieldVariable=\"VelocityField\")\n",
      "#vis.viewPortCreate(fieldVariable=\"VelocityField\", camera=\"camera\")\n",
      "\n",
      "visualisation.setup.viewPortCreate(fieldVariable=\"PressureField\", camera=\"camera\")\n",
      "visualisation.setup.viewPortCreate(fieldVariable=\"VelocityMagnitudeField\", camera=\"camera\", arrows=\"velocityArrows\")\n",
      "visualisation.setup.viewPortCreate(fieldVariable=\"TemperatureField\", camera=\"camera\")\n",
      "\n",
      "visualisation.setup.windowCreate(viewPortList=[\"TemperatureFieldVP VelocityMagnitudeFieldVP PressureFieldVP\"])\n",
      "\n"
     ],
     "language": "python",
     "metadata": {},
     "outputs": [
      {
       "metadata": {},
       "output_type": "pyout",
       "prompt_number": 8,
       "text": [
        "{'Database': 'database',\n",
        " 'Type': 'lucWindow',\n",
        " 'Viewport': ['TemperatureFieldVP VelocityMagnitudeFieldVP PressureFieldVP'],\n",
        " 'name': 'window'}"
       ]
      }
     ],
     "prompt_number": 8
    },
    {
     "cell_type": "code",
     "collapsed": false,
     "input": [
      "underworld.Construct()\n",
      "\n",
      "for timestep in range (0,steps):\n",
      "    underworld.Step(steps=1)\n",
      "    \n",
      "underworld.Finalise()\n"
     ],
     "language": "python",
     "metadata": {},
     "outputs": [],
     "prompt_number": 9
    }
   ],
   "metadata": {}
  }
 ]
}