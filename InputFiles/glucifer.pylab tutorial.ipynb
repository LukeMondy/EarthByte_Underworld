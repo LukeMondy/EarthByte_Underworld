{
 "metadata": {
  "name": ""
 },
 "nbformat": 3,
 "nbformat_minor": 0,
 "worksheets": [
  {
   "cells": [
    {
     "cell_type": "markdown",
     "metadata": {},
     "source": [
      "glucifer.pylab tutorial\n",
      "=======================\n",
      "\n",
      "The glucifer pylab module provides a matplotib _style_ interface to the glucifer visualisation tool. Users can now construct their visualisations directly in python, without utilising the XML front end. There are numerous benefits to this interface over the traditional XML interface:\n",
      "* Much simpler path to visualisations.\n",
      "* Better error tolerance, and more verbose where incorrect input has been used.\n",
      "* Dynamic visualisation of live Underworld simulation. Modify your visualations without needing to re-run the entire simulation.\n",
      "* Easily generate numerous visualisations simultaneously.\n",
      "* Embedded documentation via python docstrings. \n",
      "* Embed your results directly in your ipython notebook\n",
      "\n",
      "Note that only a subset of the glucifer functionality is currently supported.  All classes and functions have corresponding docstrings which are available via the python `help()` function."
     ]
    },
    {
     "cell_type": "code",
     "collapsed": false,
     "input": [
      "# lets setup a basic underworld model before be proceed.\n",
      "import underworld\n",
      "underworld.Init(\"RayleighTaylorBenchmark.xml\")\n",
      "underworld.Construct()\n",
      "underworld.Step()\n",
      "# lets also import pylab\n",
      "import glucifer.pylab as plt"
     ],
     "language": "python",
     "metadata": {},
     "outputs": [],
     "prompt_number": null
    },
    {
     "cell_type": "markdown",
     "metadata": {},
     "source": [
      "The Figure\n",
      "----------\n",
      "The figure is the basic container object for glucifer drawing objects. A figure can be generated using the pylab `figure()` function:"
     ]
    },
    {
     "cell_type": "code",
     "collapsed": false,
     "input": [
      "newfigure = plt.figure()"
     ],
     "language": "python",
     "metadata": {},
     "outputs": [],
     "prompt_number": null
    },
    {
     "cell_type": "markdown",
     "metadata": {},
     "source": [
      "The `figure()` constructor takes various options (see the help function for full details). An identifier for the figure may be supplied using the `num` keyword:"
     ]
    },
    {
     "cell_type": "code",
     "collapsed": false,
     "input": [
      "otherfigure = plt.figure(num=\"otherfigIdentifier\")"
     ],
     "language": "python",
     "metadata": {},
     "outputs": [],
     "prompt_number": null
    },
    {
     "cell_type": "markdown",
     "metadata": {},
     "source": [
      "Figures that are constructed with identifiers are stored in a dictionary and may be retrieved later, or in other parts of your code:"
     ]
    },
    {
     "cell_type": "code",
     "collapsed": false,
     "input": [
      "otherfigureAgain = plt.figure(num=\"otherfigIdentifier\")\n",
      "assert(otherfigureAgain == otherfigure)"
     ],
     "language": "python",
     "metadata": {},
     "outputs": [],
     "prompt_number": null
    },
    {
     "cell_type": "markdown",
     "metadata": {},
     "source": [
      "Figures that are not given identifiers remain active while they are in scope, or while some object retains a reference to them. \n",
      "You may close a figure using the `close()` function.  If you provide no arguments, all figures are closed:"
     ]
    },
    {
     "cell_type": "code",
     "collapsed": false,
     "input": [
      "plt.close(num=\"otherfigIdentifier\") # closes  \"otherfigIdentifier\"\n",
      "plt.close()                         # closes all."
     ],
     "language": "python",
     "metadata": {},
     "outputs": [],
     "prompt_number": null
    },
    {
     "cell_type": "markdown",
     "metadata": {},
     "source": [
      "Note however that if you retain a reference to any figures, they will not be closed, but simply removed from the `pylab` module's dictionary of figures."
     ]
    },
    {
     "cell_type": "markdown",
     "metadata": {},
     "source": [
      "Drawing Objects\n",
      "---------------\n",
      "Drawing objects are the items that are rendered within the figure. Currently supported drawing objects are `Suface()`, which renders the surface of some Underworld field (or Numpy array), `Points()` which may be used to render Underworld swarm objects, and `VectorArrows()` which draws vector arrows across a vector field (such as a VelocityField). See `help(Drawing)` for options applicable to all drawing objects. "
     ]
    },
    {
     "cell_type": "markdown",
     "metadata": {},
     "source": [
      "### Surface\n",
      "This object will draw the desired faces of a scalar field. We add this drawing object to a figure object by using the Figure.Surface() method. Use the `field` argument to provide the textual name for the live Underworld scalar field. Check `help(Surface)` for the full options of the Surface drawing object."
     ]
    },
    {
     "cell_type": "code",
     "collapsed": false,
     "input": [
      "fig = plt.figure(edgecolour=\"black\")\n",
      "guy = fig.Surface(field=\"VelocityMagnitudeField\", colours=\"red yellow green\")"
     ],
     "language": "python",
     "metadata": {},
     "outputs": [],
     "prompt_number": null
    },
    {
     "cell_type": "markdown",
     "metadata": {},
     "source": [
      "We can now display the figure inlinen within ipython using the `show()` method:"
     ]
    },
    {
     "cell_type": "code",
     "collapsed": false,
     "input": [
      "fig.show()"
     ],
     "language": "python",
     "metadata": {},
     "outputs": [],
     "prompt_number": null
    },
    {
     "cell_type": "markdown",
     "metadata": {},
     "source": [
      "### VectorArrows\n",
      "This object will draw an array of vector arrows across the image using the provided vector field to determine their direction. Similarly to the `Surface` drawing object, we can add this drawing object to a figure object by using the Figure.VectorArrows() method. Use the `field` argument to provide the textual name for the live Underworld vector field. Check `help(VectorArrows)` for the full options of the VectorArrows drawing object."
     ]
    },
    {
     "cell_type": "code",
     "collapsed": false,
     "input": [
      "fig = plt.figure(edgecolour=\"black\")\n",
      "fig.VectorArrows(field=\"VelocityField\", lengthScale=0.2, arrowHeadSize=0.2)\n",
      "fig.show()"
     ],
     "language": "python",
     "metadata": {},
     "outputs": [],
     "prompt_number": null
    },
    {
     "cell_type": "markdown",
     "metadata": {},
     "source": [
      "### Points\n",
      "This object will draw a swarm of points using the provided Underworld swarm for the point locations and an Underworld swarm variable for the point colours (or size or opacity). Similarly to the other drawing objects, we add this drawing object to a figure object by using the Figure.Points() method. Use the `swarm` argument to provide the textual name for the live Underworld vector field. Check `help(Points)` for the full options of the Points drawing object."
     ]
    },
    {
     "cell_type": "code",
     "collapsed": false,
     "input": [
      "fig = plt.figure(edgecolour=\"black\")\n",
      "fig.Points(swarm=\"materialSwarm\")\n",
      "fig.show()"
     ],
     "language": "python",
     "metadata": {},
     "outputs": [],
     "prompt_number": null
    },
    {
     "cell_type": "markdown",
     "metadata": {},
     "source": [
      "And here we use the materialIndex to colour the points:"
     ]
    },
    {
     "cell_type": "code",
     "collapsed": false,
     "input": [
      "fig = plt.figure(edgecolour=\"black\")\n",
      "fig.Points(swarm=\"materialSwarm\", colourVariable=\"materialSwarm-MaterialIndex\", pointSize=1)\n",
      "fig.show()"
     ],
     "language": "python",
     "metadata": {},
     "outputs": [],
     "prompt_number": null
    },
    {
     "cell_type": "markdown",
     "metadata": {},
     "source": [
      "Image Layering\n",
      "--------------\n",
      "Multiple drawing objects can of course be layered upon each other to build up complex images. This is achieved by simply making multiple calls to your figure drawing object methods:"
     ]
    },
    {
     "cell_type": "code",
     "collapsed": false,
     "input": [
      "fig = plt.figure(edgecolour=\"black\")\n",
      "fig.Surface(field=\"VelocityMagnitudeField\", colours=\"red yellow green\")\n",
      "fig.VectorArrows(field=\"VelocityField\", lengthScale=0.1, arrowHeadSize=0.2, opacity=0.6)\n",
      "fig.show()"
     ],
     "language": "python",
     "metadata": {},
     "outputs": [],
     "prompt_number": null
    },
    {
     "cell_type": "markdown",
     "metadata": {},
     "source": [
      "The `clear()` figure method can be used to clear all drawing objects from an active figure:"
     ]
    },
    {
     "cell_type": "code",
     "collapsed": false,
     "input": [
      "fig.clear()\n",
      "# fig.show() # this raises an exception now"
     ],
     "language": "python",
     "metadata": {},
     "outputs": [],
     "prompt_number": null
    },
    {
     "cell_type": "markdown",
     "metadata": {},
     "source": [
      "Outputting\n",
      "==========\n",
      "To output results to raster files, simply use the `savefig()` method:"
     ]
    },
    {
     "cell_type": "code",
     "collapsed": false,
     "input": [
      "fig = plt.figure(edgecolour=\"black\")\n",
      "fig.Surface(field=\"VelocityMagnitudeField\", colours=\"red yellow green\")\n",
      "fig.VectorArrows(field=\"VelocityField\", lengthScale=0.1, arrowHeadSize=0.2, opacity=0.6)\n",
      "fig.savefig(\"savedfigure\")\n",
      "import glob\n",
      "print glob.glob(\"savedfigure.*\")"
     ],
     "language": "python",
     "metadata": {},
     "outputs": [],
     "prompt_number": null
    },
    {
     "cell_type": "markdown",
     "metadata": {},
     "source": [
      "Likewise, for those who wish to utilise the native viewer, the database object can be saved using the `saveDB()` method:"
     ]
    },
    {
     "cell_type": "code",
     "collapsed": false,
     "input": [
      "fig.saveDB(\"dbFile.sqlite3\")\n",
      "print glob.glob(\"dbFile.*\")"
     ],
     "language": "python",
     "metadata": {},
     "outputs": [],
     "prompt_number": null
    },
    {
     "cell_type": "markdown",
     "metadata": {},
     "source": [
      "Numpy\n",
      "-----\n",
      "Basic numpy integration is provided for multidimensional (2d or 3d) numpy arrays of scalar values. Currently this is facilitated by casting the numpy array into an Underworld VoxelDataField fieldvariable. The effective domain is defined by a pair of tuples provided by the user. Note that for best efficiency, no copies occur in this process."
     ]
    },
    {
     "cell_type": "code",
     "collapsed": false,
     "input": [
      "import numpy as np\n",
      "a = np.arange(10000, dtype='int32').reshape(100,100)\n",
      "a[45:50,:]=300\n",
      "a[:,45:50]=300"
     ],
     "language": "python",
     "metadata": {},
     "outputs": [],
     "prompt_number": null
    },
    {
     "cell_type": "markdown",
     "metadata": {},
     "source": [
      "We can utilise the numpy array directly with the Surface drawing object:"
     ]
    },
    {
     "cell_type": "code",
     "collapsed": false,
     "input": [
      "fig = plt.figure(edgecolour=\"black\")\n",
      "fig.Surface(ndarray=a, minTup=(0.,0.), maxTup=(1.,1.))\n",
      "fig.show()"
     ],
     "language": "python",
     "metadata": {},
     "outputs": [],
     "prompt_number": null
    },
    {
     "cell_type": "code",
     "collapsed": false,
     "input": [],
     "language": "python",
     "metadata": {},
     "outputs": [],
     "prompt_number": null
    }
   ],
   "metadata": {}
  }
 ]
}