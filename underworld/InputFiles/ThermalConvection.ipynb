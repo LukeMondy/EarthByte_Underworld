{
 "metadata": {
  "name": "",
  "signature": "sha256:f661b6d985e1b2f4e1764fcd51bf06754e7be37f6ca415dab28d18addf58ba40"
 },
 "nbformat": 3,
 "nbformat_minor": 0,
 "worksheets": [
  {
   "cells": [
    {
     "cell_type": "code",
     "collapsed": false,
     "input": [
      "## Thermal Convection                                                                             \n",
      "\n",
      "from pprint import pprint\n",
      "\n",
      "import uwpytools as underworld\n",
      "\n",
      "import uwpytools.meshing  as meshing\n",
      "import uwpytools.geometry as geometry\n",
      "import uwpytools.fields   as fields\n",
      "import uwpytools.swarms   as swarms\n",
      "import uwpytools.material as material\n",
      "import uwpytools.visualisation as visualisation\n",
      "# import uwpytools.fields._fields as fields\n",
      "\n",
      "# import uwpytools.swarms._swarms as swarms\n",
      "# import uwpytools.matrix._matrix as matrix\n",
      "import uwpytools.shapes as shape\n",
      "import uwpytools.rheology as rheology\n",
      "import uwpytools.boundary as boundary\n",
      "import uwpytools.equations as eq\n",
      "import uwpytools.physics as phys\n",
      "\n",
      "underworld.Init()\n",
      "\n",
      "# We will be using the built-in visualisation tools\n",
      "\n",
      "underworld.importToolBox('gLucifer')\n",
      "\n",
      "gdict=underworld.GetCurrentPythonDictionary()\n",
      "\n",
      "underworld.PrettyDictionaryPrint(gdict)"
     ],
     "language": "python",
     "metadata": {},
     "outputs": [
      {
       "output_type": "stream",
       "stream": "stdout",
       "text": [
        "{\n",
        "   \"plugins\": [], \n",
        "   \"import\": [\n",
        "      \"gLucifer\"\n",
        "   ], \n",
        "   \"components\": {}, \n",
        "   \"parameters\": {}, \n",
        "   \"info\": {}\n",
        "}\n"
       ]
      }
     ],
     "prompt_number": 1
    },
    {
     "cell_type": "code",
     "collapsed": false,
     "input": [
      "# These defaults should be split up either by problem or by module (fields etc)\n",
      "\n",
      "underworld.initDefaultParameters()\n",
      "\n",
      "minX=0.0\n",
      "maxX=1.0\n",
      "minY=0.0\n",
      "maxY=1.0\n",
      "\n",
      "resX=64\n",
      "resY=64\n",
      "steps=6\n",
      "\n",
      "particlesPerCell=35\n",
      "\n",
      "dim = 2\n",
      "\n",
      "underworld.setParameters(\n",
      "                    gravity = 1.0,\n",
      "                    outputPath=\"thermalConvection\"+str(resX),\n",
      "                    maxTimeSteps = steps\n",
      "                 )\n"
     ],
     "language": "python",
     "metadata": {},
     "outputs": [],
     "prompt_number": 2
    },
    {
     "cell_type": "code",
     "collapsed": false,
     "input": [
      "\n",
      "# Set up a standard Mesh of bilinear elements (Q1P0 - and with temperature field)\n",
      "\n",
      "geoNames = geometry.setup.meshQ1P0CartesianCreate(dim=dim,  \n",
      "                                                  minX=minX, maxX=maxX, minY=minY, maxY=maxY,\n",
      "                                                  resX=resX, resY=resY,\n",
      "                                                  pic=True,particlesPerCell=particlesPerCell, \n",
      "                                                  withTemperature=True)\n"
     ],
     "language": "python",
     "metadata": {},
     "outputs": [],
     "prompt_number": 3
    },
    {
     "cell_type": "code",
     "collapsed": false,
     "input": [
      "# Need to set up Shapes and Rheology\n",
      "# Set up default background shape\n",
      "shape.setup.everywhereCreate(componentName=\"backgroundShape\")\n",
      "\n",
      "# Sets up \"backgroundViscosity\" by default\n",
      "rheology.setup.isoviscousCreate( componentName=\"backgroundViscosity\", eta0=1.0)  # or could set eta0 in the above Parameters list\n",
      "\n",
      "# connect shapes and rheologies\n",
      "material.setup.materialCreate( componentName = \"background\",\n",
      "                               rheologyName  = \"backgroundViscosity\",\n",
      "                               shapeName     = \"backgroundShape\",\n",
      "                               density       = 1.0\n",
      "                               )\n"
     ],
     "language": "python",
     "metadata": {},
     "outputs": [
      {
       "metadata": {},
       "output_type": "pyout",
       "prompt_number": 4,
       "text": [
        "{'Rheology': 'backgroundViscosity',\n",
        " 'Shape': 'backgroundShape',\n",
        " 'Type': 'RheologyMaterial',\n",
        " 'density': '1.0',\n",
        " 'name': 'background'}"
       ]
      }
     ],
     "prompt_number": 4
    },
    {
     "cell_type": "code",
     "collapsed": false,
     "input": [
      "# Need a system of Equations and Solver                                                                                         \n",
      "# eq.stokesSystemCreate(solver=\"stokesblockkspinterface\", buoyancy=True, pic=True)                                                         \n",
      "# The uzawa by default at the moment\n",
      "\n",
      "eq.setup.stokesSystemCreate(buoyancy=True, pic=True, buoyancyType=\"thermal\")\n",
      "#help(eq.setup.stokesSystemCreate)\n",
      "\n"
     ],
     "language": "python",
     "metadata": {},
     "outputs": [],
     "prompt_number": 5
    },
    {
     "cell_type": "code",
     "collapsed": false,
     "input": [
      "eq.setup.advectionDiffusionEquationCreate(equationName=\"energyEqn\",                                                        \n",
      "                                          diffusivity=1.0 )\n",
      "\n"
     ],
     "language": "python",
     "metadata": {},
     "outputs": [],
     "prompt_number": 6
    },
    {
     "cell_type": "code",
     "collapsed": false,
     "input": [
      "# Create BC's                                                                                                                   \n",
      "\n",
      "# Free slip on side walls\n",
      "boundary.setup.wallFreeSlipCreate( wall=\"left\")\n",
      "boundary.setup.wallFreeSlipCreate( wall=\"right\")\n",
      "\n",
      "# Free slip on top\n",
      "boundary.setup.wallFreeSlipCreate( wall=\"top\")\n",
      "\n",
      "# Free slip on bottom\n",
      "boundary.setup.wallFreeSlipCreate( wall=\"bottom\")\n",
      "\n",
      "boundary.setup.wallTemperatureCreate(wall=\"bottom\", value=1.0)\n",
      "boundary.setup.wallTemperatureCreate(wall=\"top\", value=0.0)\n",
      "\n",
      "boundary.setup.temperatureICSinusoidalCreate(TopLayerCoord=maxY, BottomLayerCoord=minY, BottomLayerBC=1.0)\n",
      "\n",
      "# Let particles leave box just in case                                                                                          \n",
      "underworld.NewComponentEntryInStgDict( gdict, name=\"escapedRoutine\", Type=\"EscapedRoutine\")\n",
      "\n",
      "#pd(gdict)                                                                                                                      \n",
      "#help(swarm._integrationSwarmCreate)     "
     ],
     "language": "python",
     "metadata": {},
     "outputs": [
      {
       "metadata": {},
       "output_type": "pyout",
       "prompt_number": 7,
       "text": [
        "{'Type': 'EscapedRoutine', 'name': 'escapedRoutine'}"
       ]
      }
     ],
     "prompt_number": 7
    },
    {
     "cell_type": "code",
     "collapsed": false,
     "input": [
      "\n",
      "fields.setup.operatorFeVariableCreate(feVariableName=\"TemperatureField\", \n",
      "                                      operator=\"Gradient\", \n",
      "                                      componentName=\"TemperatureGradientsField\")\n",
      "# These are used in the visualisation \n",
      "fields.setup.operatorFeVariableCreate(feVariableName=\"VelocityField\", \n",
      "                                      operator=\"Magnitude\", \n",
      "                                      componentName=\"VelocityMagnitudeField\")\n",
      "fields.setup.operatorFeVariableCreate(feVariableName=\"VelocityField\",\n",
      "                                      operator=\"Gradient\", \n",
      "                                      componentName=\"VelocityGradientsField\")\n",
      "fields.setup.operatorFeVariableCreate(feVariableName=\"VelocityGradientsField\", \n",
      "                                      operator=\"TensorInvariant\", \n",
      "                                      componentName=\"VelocityGradientsInvariantField\")\n",
      "\n",
      "# This is data that is \n",
      "underworld.addCheckPointVariables([\"TemperatureGradientsField\", \n",
      "                                   \"VelocityGradientsField\", \n",
      "                                   \"VelocityGradientsInvariantField\"])\n",
      "\n",
      "# For visualisation we can either build a static image or we can load up a \n",
      "# database to access via the gLucifer viewer\n",
      "\n",
      "visualisation.setup.databaseCreate()\n",
      "\n",
      "visualisation.setup.cameraCreate(centreFieldVariable=\"VelocityField\", name=\"camera\")\n",
      "#create some arrows for visualisation\n",
      "visualisation.setup.fieldArrowsCreate(name=\"velocityArrows\", fieldVariable=\"VelocityField\")\n",
      "#vis.viewPortCreate(fieldVariable=\"VelocityField\", camera=\"camera\")\n",
      "\n",
      "visualisation.setup.viewPortCreate(fieldVariable=\"PressureField\", camera=\"camera\")\n",
      "visualisation.setup.viewPortCreate(fieldVariable=\"VelocityMagnitudeField\", camera=\"camera\", arrows=\"velocityArrows\")\n",
      "visualisation.setup.viewPortCreate(fieldVariable=\"TemperatureField\", camera=\"camera\")\n",
      "\n",
      "visualisation.setup.windowCreate(viewPortList=[\"TemperatureFieldVP VelocityMagnitudeFieldVP PressureFieldVP\"])\n",
      "\n"
     ],
     "language": "python",
     "metadata": {},
     "outputs": [
      {
       "metadata": {},
       "output_type": "pyout",
       "prompt_number": 8,
       "text": [
        "{'Database': 'database',\n",
        " 'Type': 'lucWindow',\n",
        " 'Viewport': ['TemperatureFieldVP VelocityMagnitudeFieldVP PressureFieldVP'],\n",
        " 'name': 'window'}"
       ]
      }
     ],
     "prompt_number": 8
    },
    {
     "cell_type": "code",
     "collapsed": false,
     "input": [
      "underworld.Construct()\n",
      "underworld.BuildAndInitialise()\n",
      "\n",
      "for timestep in range (0,steps):\n",
      "    underworld.Step(steps=1)\n",
      "    \n",
      "underworld.Finalise()\n"
     ],
     "language": "python",
     "metadata": {},
     "outputs": [],
     "prompt_number": 9
    },
    {
     "cell_type": "code",
     "collapsed": false,
     "input": [
      "ls"
     ],
     "language": "python",
     "metadata": {},
     "outputs": [
      {
       "output_type": "stream",
       "stream": "stdout",
       "text": [
        ":memory                          README.txt                       ThermalConvection.ipynb.orig     \u001b[31mprogrammaticShapes.py\u001b[m\u001b[m*\r\n",
        "BuoyancyDrivenVanilla.xml        RayleighTaylorBenchmark.ipynb    ThermalConvection.py             \u001b[31mpyUnderworld.py\u001b[m\u001b[m*\r\n",
        "LidDriven.ipynb                  RayleighTaylorBenchmark.json     \u001b[34mTutorial\u001b[m\u001b[m/                        \u001b[31mrunAndQuery.py\u001b[m\u001b[m*\r\n",
        "LidDriven.py                     RayleighTaylorBenchmark.py       moresi.png                       \u001b[31mrunAndReRun.py\u001b[m\u001b[m*\r\n",
        "\u001b[34mMaterialsAndFaultsFromImages\u001b[m\u001b[m/    RayleighTaylorBenchmark.xml      \u001b[31mmultiSpiralParticles.py\u001b[m\u001b[m*         \u001b[31mspiralParticles.py\u001b[m\u001b[m*\r\n",
        "NumpyInterfaceTests.ipynb        RayleighTaylorBenchmark2.ipynb   nohup.out                        \u001b[31mswarmVarInitFromImage.py\u001b[m\u001b[m*\r\n",
        "NumpyInterfaceTests.py           SimpleThermal.xml                \u001b[34moptions\u001b[m\u001b[m/                         \u001b[31mteleportationSwarm.py\u001b[m\u001b[m*\r\n",
        "\u001b[31mRBFHeightSwarm.py\u001b[m\u001b[m*               SwapWithSinkingBox.py            options-scr-mg-accelerating.opt  \u001b[34mthermalConvection64\u001b[m\u001b[m/\r\n",
        "\u001b[31mRBFSwarm.py\u001b[m\u001b[m*                     ThermalConvection.ipynb          \u001b[31mparametricThermal.py\u001b[m\u001b[m*            \u001b[31mupdatePyPath.sh\u001b[m\u001b[m*\r\n"
       ]
      }
     ],
     "prompt_number": 10
    },
    {
     "cell_type": "code",
     "collapsed": false,
     "input": [
      "help(underworld.setParameters)"
     ],
     "language": "python",
     "metadata": {},
     "outputs": [
      {
       "output_type": "stream",
       "stream": "stdout",
       "text": [
        "Help on function setParameters in module uwpytools._uwpytools:\n",
        "\n",
        "setParameters(**params)\n",
        "\n"
       ]
      }
     ],
     "prompt_number": 11
    },
    {
     "cell_type": "code",
     "collapsed": false,
     "input": [],
     "language": "python",
     "metadata": {},
     "outputs": [],
     "prompt_number": 11
    }
   ],
   "metadata": {}
  }
 ]
}